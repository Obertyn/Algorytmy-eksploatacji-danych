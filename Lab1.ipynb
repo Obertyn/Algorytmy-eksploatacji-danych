{
  "nbformat": 4,
  "nbformat_minor": 0,
  "metadata": {
    "colab": {
      "name": "Algorytmy1.ipynb",
      "provenance": [],
      "collapsed_sections": []
    },
    "kernelspec": {
      "name": "python3",
      "display_name": "Python 3"
    },
    "language_info": {
      "name": "python"
    }
  },
  "cells": [
    {
      "cell_type": "code",
      "metadata": {
        "id": "-db-7wmwEcs5"
      },
      "source": [
        "import pandas as pd\n",
        "from io import StringIO #biblioteka służąca jako \"plik pamięci\". W tym przypadku służy do ilustracji problemu.\n",
        "import csv\n",
        "import os"
      ],
      "execution_count": 1,
      "outputs": []
    },
    {
      "cell_type": "code",
      "metadata": {
        "id": "FT4R_L9sHJDb"
      },
      "source": [
        ""
      ],
      "execution_count": 1,
      "outputs": []
    },
    {
      "cell_type": "code",
      "metadata": {
        "colab": {
          "base_uri": "https://localhost:8080/",
          "height": 143
        },
        "id": "ReBa7cFKHJGN",
        "outputId": "a3884096-382c-4fe1-cbd7-b58965df988c"
      },
      "source": [
        "dane = \\\n",
        "'''A,B,C,D,E,F,G,H,I,J\n",
        "0,1.0,2.0,3.0,4.0,5.0,,7.0,,9.0,10.0\n",
        "1,11.0,12.0,,,15.0,16.0,,18.0,19.0\n",
        "2,,22.0,23.0,24.0,25.0,,,,29.0,30.0'''\n",
        "df = pd.read_csv(StringIO(dane))\n",
        "df"
      ],
      "execution_count": 2,
      "outputs": [
        {
          "output_type": "execute_result",
          "data": {
            "text/html": [
              "<div>\n",
              "<style scoped>\n",
              "    .dataframe tbody tr th:only-of-type {\n",
              "        vertical-align: middle;\n",
              "    }\n",
              "\n",
              "    .dataframe tbody tr th {\n",
              "        vertical-align: top;\n",
              "    }\n",
              "\n",
              "    .dataframe thead th {\n",
              "        text-align: right;\n",
              "    }\n",
              "</style>\n",
              "<table border=\"1\" class=\"dataframe\">\n",
              "  <thead>\n",
              "    <tr style=\"text-align: right;\">\n",
              "      <th></th>\n",
              "      <th>A</th>\n",
              "      <th>B</th>\n",
              "      <th>C</th>\n",
              "      <th>D</th>\n",
              "      <th>E</th>\n",
              "      <th>F</th>\n",
              "      <th>G</th>\n",
              "      <th>H</th>\n",
              "      <th>I</th>\n",
              "      <th>J</th>\n",
              "    </tr>\n",
              "  </thead>\n",
              "  <tbody>\n",
              "    <tr>\n",
              "      <th>0</th>\n",
              "      <td>1.0</td>\n",
              "      <td>2.0</td>\n",
              "      <td>3.0</td>\n",
              "      <td>4.0</td>\n",
              "      <td>5.0</td>\n",
              "      <td>NaN</td>\n",
              "      <td>7.0</td>\n",
              "      <td>NaN</td>\n",
              "      <td>9.0</td>\n",
              "      <td>10.0</td>\n",
              "    </tr>\n",
              "    <tr>\n",
              "      <th>1</th>\n",
              "      <td>11.0</td>\n",
              "      <td>12.0</td>\n",
              "      <td>NaN</td>\n",
              "      <td>NaN</td>\n",
              "      <td>15.0</td>\n",
              "      <td>16.0</td>\n",
              "      <td>NaN</td>\n",
              "      <td>18.0</td>\n",
              "      <td>19.0</td>\n",
              "      <td>NaN</td>\n",
              "    </tr>\n",
              "    <tr>\n",
              "      <th>2</th>\n",
              "      <td>NaN</td>\n",
              "      <td>22.0</td>\n",
              "      <td>23.0</td>\n",
              "      <td>24.0</td>\n",
              "      <td>25.0</td>\n",
              "      <td>NaN</td>\n",
              "      <td>NaN</td>\n",
              "      <td>NaN</td>\n",
              "      <td>29.0</td>\n",
              "      <td>30.0</td>\n",
              "    </tr>\n",
              "  </tbody>\n",
              "</table>\n",
              "</div>"
            ],
            "text/plain": [
              "      A     B     C     D     E     F    G     H     I     J\n",
              "0   1.0   2.0   3.0   4.0   5.0   NaN  7.0   NaN   9.0  10.0\n",
              "1  11.0  12.0   NaN   NaN  15.0  16.0  NaN  18.0  19.0   NaN\n",
              "2   NaN  22.0  23.0  24.0  25.0   NaN  NaN   NaN  29.0  30.0"
            ]
          },
          "metadata": {},
          "execution_count": 2
        }
      ]
    },
    {
      "cell_type": "code",
      "metadata": {
        "colab": {
          "base_uri": "https://localhost:8080/"
        },
        "id": "fELiWCe-IpOU",
        "outputId": "d298b990-dda9-41ac-a453-ae15f7800599"
      },
      "source": [
        "from sklearn.impute import SimpleImputer  \n",
        "import numpy as np\n",
        "imp = SimpleImputer(missing_values=np.nan, strategy='mean') \n",
        "imp = imp.fit(df.values)\n",
        "imputed_data = imp.transform(df.values)\n",
        "imputed_data"
      ],
      "execution_count": 3,
      "outputs": [
        {
          "output_type": "execute_result",
          "data": {
            "text/plain": [
              "array([[ 1.,  2.,  3.,  4.,  5., 16.,  7., 18.,  9., 10.],\n",
              "       [11., 12., 13., 14., 15., 16.,  7., 18., 19., 20.],\n",
              "       [ 6., 22., 23., 24., 25., 16.,  7., 18., 29., 30.]])"
            ]
          },
          "metadata": {},
          "execution_count": 3
        }
      ]
    },
    {
      "cell_type": "code",
      "metadata": {
        "colab": {
          "base_uri": "https://localhost:8080/",
          "height": 143
        },
        "id": "aLMqWYqJJ_hr",
        "outputId": "8c913a23-9baf-48f2-80e8-22c5a7a8e231"
      },
      "source": [
        "dane = \\\n",
        "'''A,B,C,D,E,F,G,H,I,J\n",
        "0,1.0,2.0,3.0,4.0,5.0,,7.0,,9.0,10.0\n",
        "1,11.0,12.0,,,15.0,16.0,,18.0,19.0\n",
        "2,,22.0,23.0,24.0,25.0,,,,29.0,30.0'''\n",
        "df = pd.read_csv(StringIO(dane))\n",
        "df"
      ],
      "execution_count": 4,
      "outputs": [
        {
          "output_type": "execute_result",
          "data": {
            "text/html": [
              "<div>\n",
              "<style scoped>\n",
              "    .dataframe tbody tr th:only-of-type {\n",
              "        vertical-align: middle;\n",
              "    }\n",
              "\n",
              "    .dataframe tbody tr th {\n",
              "        vertical-align: top;\n",
              "    }\n",
              "\n",
              "    .dataframe thead th {\n",
              "        text-align: right;\n",
              "    }\n",
              "</style>\n",
              "<table border=\"1\" class=\"dataframe\">\n",
              "  <thead>\n",
              "    <tr style=\"text-align: right;\">\n",
              "      <th></th>\n",
              "      <th>A</th>\n",
              "      <th>B</th>\n",
              "      <th>C</th>\n",
              "      <th>D</th>\n",
              "      <th>E</th>\n",
              "      <th>F</th>\n",
              "      <th>G</th>\n",
              "      <th>H</th>\n",
              "      <th>I</th>\n",
              "      <th>J</th>\n",
              "    </tr>\n",
              "  </thead>\n",
              "  <tbody>\n",
              "    <tr>\n",
              "      <th>0</th>\n",
              "      <td>1.0</td>\n",
              "      <td>2.0</td>\n",
              "      <td>3.0</td>\n",
              "      <td>4.0</td>\n",
              "      <td>5.0</td>\n",
              "      <td>NaN</td>\n",
              "      <td>7.0</td>\n",
              "      <td>NaN</td>\n",
              "      <td>9.0</td>\n",
              "      <td>10.0</td>\n",
              "    </tr>\n",
              "    <tr>\n",
              "      <th>1</th>\n",
              "      <td>11.0</td>\n",
              "      <td>12.0</td>\n",
              "      <td>NaN</td>\n",
              "      <td>NaN</td>\n",
              "      <td>15.0</td>\n",
              "      <td>16.0</td>\n",
              "      <td>NaN</td>\n",
              "      <td>18.0</td>\n",
              "      <td>19.0</td>\n",
              "      <td>NaN</td>\n",
              "    </tr>\n",
              "    <tr>\n",
              "      <th>2</th>\n",
              "      <td>NaN</td>\n",
              "      <td>22.0</td>\n",
              "      <td>23.0</td>\n",
              "      <td>24.0</td>\n",
              "      <td>25.0</td>\n",
              "      <td>NaN</td>\n",
              "      <td>NaN</td>\n",
              "      <td>NaN</td>\n",
              "      <td>29.0</td>\n",
              "      <td>30.0</td>\n",
              "    </tr>\n",
              "  </tbody>\n",
              "</table>\n",
              "</div>"
            ],
            "text/plain": [
              "      A     B     C     D     E     F    G     H     I     J\n",
              "0   1.0   2.0   3.0   4.0   5.0   NaN  7.0   NaN   9.0  10.0\n",
              "1  11.0  12.0   NaN   NaN  15.0  16.0  NaN  18.0  19.0   NaN\n",
              "2   NaN  22.0  23.0  24.0  25.0   NaN  NaN   NaN  29.0  30.0"
            ]
          },
          "metadata": {},
          "execution_count": 4
        }
      ]
    },
    {
      "cell_type": "code",
      "metadata": {
        "id": "7SrZRYflJ_ju"
      },
      "source": [
        "df_t = df.T"
      ],
      "execution_count": 5,
      "outputs": []
    },
    {
      "cell_type": "code",
      "metadata": {
        "colab": {
          "base_uri": "https://localhost:8080/",
          "height": 363
        },
        "id": "lNtHmiI-J_l6",
        "outputId": "135d2743-3654-4c8d-891f-45c192595c41"
      },
      "source": [
        "df_t"
      ],
      "execution_count": 6,
      "outputs": [
        {
          "output_type": "execute_result",
          "data": {
            "text/html": [
              "<div>\n",
              "<style scoped>\n",
              "    .dataframe tbody tr th:only-of-type {\n",
              "        vertical-align: middle;\n",
              "    }\n",
              "\n",
              "    .dataframe tbody tr th {\n",
              "        vertical-align: top;\n",
              "    }\n",
              "\n",
              "    .dataframe thead th {\n",
              "        text-align: right;\n",
              "    }\n",
              "</style>\n",
              "<table border=\"1\" class=\"dataframe\">\n",
              "  <thead>\n",
              "    <tr style=\"text-align: right;\">\n",
              "      <th></th>\n",
              "      <th>0</th>\n",
              "      <th>1</th>\n",
              "      <th>2</th>\n",
              "    </tr>\n",
              "  </thead>\n",
              "  <tbody>\n",
              "    <tr>\n",
              "      <th>A</th>\n",
              "      <td>1.0</td>\n",
              "      <td>11.0</td>\n",
              "      <td>NaN</td>\n",
              "    </tr>\n",
              "    <tr>\n",
              "      <th>B</th>\n",
              "      <td>2.0</td>\n",
              "      <td>12.0</td>\n",
              "      <td>22.0</td>\n",
              "    </tr>\n",
              "    <tr>\n",
              "      <th>C</th>\n",
              "      <td>3.0</td>\n",
              "      <td>NaN</td>\n",
              "      <td>23.0</td>\n",
              "    </tr>\n",
              "    <tr>\n",
              "      <th>D</th>\n",
              "      <td>4.0</td>\n",
              "      <td>NaN</td>\n",
              "      <td>24.0</td>\n",
              "    </tr>\n",
              "    <tr>\n",
              "      <th>E</th>\n",
              "      <td>5.0</td>\n",
              "      <td>15.0</td>\n",
              "      <td>25.0</td>\n",
              "    </tr>\n",
              "    <tr>\n",
              "      <th>F</th>\n",
              "      <td>NaN</td>\n",
              "      <td>16.0</td>\n",
              "      <td>NaN</td>\n",
              "    </tr>\n",
              "    <tr>\n",
              "      <th>G</th>\n",
              "      <td>7.0</td>\n",
              "      <td>NaN</td>\n",
              "      <td>NaN</td>\n",
              "    </tr>\n",
              "    <tr>\n",
              "      <th>H</th>\n",
              "      <td>NaN</td>\n",
              "      <td>18.0</td>\n",
              "      <td>NaN</td>\n",
              "    </tr>\n",
              "    <tr>\n",
              "      <th>I</th>\n",
              "      <td>9.0</td>\n",
              "      <td>19.0</td>\n",
              "      <td>29.0</td>\n",
              "    </tr>\n",
              "    <tr>\n",
              "      <th>J</th>\n",
              "      <td>10.0</td>\n",
              "      <td>NaN</td>\n",
              "      <td>30.0</td>\n",
              "    </tr>\n",
              "  </tbody>\n",
              "</table>\n",
              "</div>"
            ],
            "text/plain": [
              "      0     1     2\n",
              "A   1.0  11.0   NaN\n",
              "B   2.0  12.0  22.0\n",
              "C   3.0   NaN  23.0\n",
              "D   4.0   NaN  24.0\n",
              "E   5.0  15.0  25.0\n",
              "F   NaN  16.0   NaN\n",
              "G   7.0   NaN   NaN\n",
              "H   NaN  18.0   NaN\n",
              "I   9.0  19.0  29.0\n",
              "J  10.0   NaN  30.0"
            ]
          },
          "metadata": {},
          "execution_count": 6
        }
      ]
    },
    {
      "cell_type": "code",
      "metadata": {
        "id": "5djqXBbjLhMn"
      },
      "source": [
        "df=df_t"
      ],
      "execution_count": 7,
      "outputs": []
    },
    {
      "cell_type": "code",
      "metadata": {
        "colab": {
          "base_uri": "https://localhost:8080/"
        },
        "id": "r5iJPV2zLSP6",
        "outputId": "4a0d5714-29eb-421d-8691-9f5bd38b609f"
      },
      "source": [
        "from sklearn.impute import SimpleImputer  \n",
        "import numpy as np\n",
        "imp = SimpleImputer(missing_values=np.nan, strategy='mean') \n",
        "imp = imp.fit(df.values)\n",
        "imputed_data = imp.transform(df.values)\n",
        "imputed_data"
      ],
      "execution_count": 8,
      "outputs": [
        {
          "output_type": "execute_result",
          "data": {
            "text/plain": [
              "array([[ 1.        , 11.        , 25.5       ],\n",
              "       [ 2.        , 12.        , 22.        ],\n",
              "       [ 3.        , 15.16666667, 23.        ],\n",
              "       [ 4.        , 15.16666667, 24.        ],\n",
              "       [ 5.        , 15.        , 25.        ],\n",
              "       [ 5.125     , 16.        , 25.5       ],\n",
              "       [ 7.        , 15.16666667, 25.5       ],\n",
              "       [ 5.125     , 18.        , 25.5       ],\n",
              "       [ 9.        , 19.        , 29.        ],\n",
              "       [10.        , 15.16666667, 30.        ]])"
            ]
          },
          "metadata": {},
          "execution_count": 8
        }
      ]
    },
    {
      "cell_type": "code",
      "metadata": {
        "id": "1mIaUiuTMPxT"
      },
      "source": [
        "import glob\n",
        "import pandas as pd\n",
        "\n",
        "df.to_csv('liczby2.csv')"
      ],
      "execution_count": 9,
      "outputs": []
    },
    {
      "cell_type": "code",
      "metadata": {
        "colab": {
          "base_uri": "https://localhost:8080/",
          "height": 363
        },
        "id": "4iIcvcfDMPzy",
        "outputId": "13e47193-0f9b-46e1-a509-dae22f982787"
      },
      "source": [
        "dane = \\\n",
        "'''kolor,rozmiar,cena,etykiety klas\n",
        "0,zielony,M,50.5,klasa1\n",
        "1,czerwony,L,52.5,klasa2\n",
        "2,niebieski,XL,57.5,klasa1\n",
        "3,fioletowy,S,59.5,klasa1\n",
        "4,czerwony,L,48.5,klasa3\n",
        "5,zielony,XL,48.5,klasa2\n",
        "6,brazowy,M,51.5,klasa1\n",
        "7,fioletowy,L,53.5,klasa3\n",
        "8,niebieski,S,61.5,klasa3\n",
        "9,czerwony,XXL,65.5,klasa1'''\n",
        "df = pd.read_csv(StringIO(dane))\n",
        "df"
      ],
      "execution_count": 10,
      "outputs": [
        {
          "output_type": "execute_result",
          "data": {
            "text/html": [
              "<div>\n",
              "<style scoped>\n",
              "    .dataframe tbody tr th:only-of-type {\n",
              "        vertical-align: middle;\n",
              "    }\n",
              "\n",
              "    .dataframe tbody tr th {\n",
              "        vertical-align: top;\n",
              "    }\n",
              "\n",
              "    .dataframe thead th {\n",
              "        text-align: right;\n",
              "    }\n",
              "</style>\n",
              "<table border=\"1\" class=\"dataframe\">\n",
              "  <thead>\n",
              "    <tr style=\"text-align: right;\">\n",
              "      <th></th>\n",
              "      <th>kolor</th>\n",
              "      <th>rozmiar</th>\n",
              "      <th>cena</th>\n",
              "      <th>etykiety klas</th>\n",
              "    </tr>\n",
              "  </thead>\n",
              "  <tbody>\n",
              "    <tr>\n",
              "      <th>0</th>\n",
              "      <td>zielony</td>\n",
              "      <td>M</td>\n",
              "      <td>50.5</td>\n",
              "      <td>klasa1</td>\n",
              "    </tr>\n",
              "    <tr>\n",
              "      <th>1</th>\n",
              "      <td>czerwony</td>\n",
              "      <td>L</td>\n",
              "      <td>52.5</td>\n",
              "      <td>klasa2</td>\n",
              "    </tr>\n",
              "    <tr>\n",
              "      <th>2</th>\n",
              "      <td>niebieski</td>\n",
              "      <td>XL</td>\n",
              "      <td>57.5</td>\n",
              "      <td>klasa1</td>\n",
              "    </tr>\n",
              "    <tr>\n",
              "      <th>3</th>\n",
              "      <td>fioletowy</td>\n",
              "      <td>S</td>\n",
              "      <td>59.5</td>\n",
              "      <td>klasa1</td>\n",
              "    </tr>\n",
              "    <tr>\n",
              "      <th>4</th>\n",
              "      <td>czerwony</td>\n",
              "      <td>L</td>\n",
              "      <td>48.5</td>\n",
              "      <td>klasa3</td>\n",
              "    </tr>\n",
              "    <tr>\n",
              "      <th>5</th>\n",
              "      <td>zielony</td>\n",
              "      <td>XL</td>\n",
              "      <td>48.5</td>\n",
              "      <td>klasa2</td>\n",
              "    </tr>\n",
              "    <tr>\n",
              "      <th>6</th>\n",
              "      <td>brazowy</td>\n",
              "      <td>M</td>\n",
              "      <td>51.5</td>\n",
              "      <td>klasa1</td>\n",
              "    </tr>\n",
              "    <tr>\n",
              "      <th>7</th>\n",
              "      <td>fioletowy</td>\n",
              "      <td>L</td>\n",
              "      <td>53.5</td>\n",
              "      <td>klasa3</td>\n",
              "    </tr>\n",
              "    <tr>\n",
              "      <th>8</th>\n",
              "      <td>niebieski</td>\n",
              "      <td>S</td>\n",
              "      <td>61.5</td>\n",
              "      <td>klasa3</td>\n",
              "    </tr>\n",
              "    <tr>\n",
              "      <th>9</th>\n",
              "      <td>czerwony</td>\n",
              "      <td>XXL</td>\n",
              "      <td>65.5</td>\n",
              "      <td>klasa1</td>\n",
              "    </tr>\n",
              "  </tbody>\n",
              "</table>\n",
              "</div>"
            ],
            "text/plain": [
              "       kolor rozmiar  cena etykiety klas\n",
              "0    zielony       M  50.5        klasa1\n",
              "1   czerwony       L  52.5        klasa2\n",
              "2  niebieski      XL  57.5        klasa1\n",
              "3  fioletowy       S  59.5        klasa1\n",
              "4   czerwony       L  48.5        klasa3\n",
              "5    zielony      XL  48.5        klasa2\n",
              "6    brazowy       M  51.5        klasa1\n",
              "7  fioletowy       L  53.5        klasa3\n",
              "8  niebieski       S  61.5        klasa3\n",
              "9   czerwony     XXL  65.5        klasa1"
            ]
          },
          "metadata": {},
          "execution_count": 10
        }
      ]
    },
    {
      "cell_type": "code",
      "metadata": {
        "colab": {
          "base_uri": "https://localhost:8080/"
        },
        "id": "lA_-8jMRMP2L",
        "outputId": "208c6f15-1f8c-4e2c-f832-896d27768326"
      },
      "source": [
        " #Zidentyfikowanie brakujących danych w zbiorze danych\n",
        " df.isnull().sum()"
      ],
      "execution_count": 11,
      "outputs": [
        {
          "output_type": "execute_result",
          "data": {
            "text/plain": [
              "kolor            0\n",
              "rozmiar          0\n",
              "cena             0\n",
              "etykiety klas    0\n",
              "dtype: int64"
            ]
          },
          "metadata": {},
          "execution_count": 11
        }
      ]
    },
    {
      "cell_type": "code",
      "metadata": {
        "colab": {
          "base_uri": "https://localhost:8080/",
          "height": 363
        },
        "id": "c7JbEH7PMP4W",
        "outputId": "e9dd4b24-35b6-4565-d804-03ccd122b1a6"
      },
      "source": [
        "map = {           #konwersja wartości porządkowych na wartości liczbowe, aby algorytm nauczania mógł prawidłowo odczytać wartości porządkowe\n",
        "    'XXL' : 5,\n",
        "    'XL' : 4,\n",
        "    'L' : 3,\n",
        "    'M' : 2,\n",
        "    'S' : 1,\n",
        "}\n",
        "df['rozmiar'] = df['rozmiar'].map(map) #użycie funkcji map() do konwersji słów na liczby\n",
        "df"
      ],
      "execution_count": 12,
      "outputs": [
        {
          "output_type": "execute_result",
          "data": {
            "text/html": [
              "<div>\n",
              "<style scoped>\n",
              "    .dataframe tbody tr th:only-of-type {\n",
              "        vertical-align: middle;\n",
              "    }\n",
              "\n",
              "    .dataframe tbody tr th {\n",
              "        vertical-align: top;\n",
              "    }\n",
              "\n",
              "    .dataframe thead th {\n",
              "        text-align: right;\n",
              "    }\n",
              "</style>\n",
              "<table border=\"1\" class=\"dataframe\">\n",
              "  <thead>\n",
              "    <tr style=\"text-align: right;\">\n",
              "      <th></th>\n",
              "      <th>kolor</th>\n",
              "      <th>rozmiar</th>\n",
              "      <th>cena</th>\n",
              "      <th>etykiety klas</th>\n",
              "    </tr>\n",
              "  </thead>\n",
              "  <tbody>\n",
              "    <tr>\n",
              "      <th>0</th>\n",
              "      <td>zielony</td>\n",
              "      <td>2</td>\n",
              "      <td>50.5</td>\n",
              "      <td>klasa1</td>\n",
              "    </tr>\n",
              "    <tr>\n",
              "      <th>1</th>\n",
              "      <td>czerwony</td>\n",
              "      <td>3</td>\n",
              "      <td>52.5</td>\n",
              "      <td>klasa2</td>\n",
              "    </tr>\n",
              "    <tr>\n",
              "      <th>2</th>\n",
              "      <td>niebieski</td>\n",
              "      <td>4</td>\n",
              "      <td>57.5</td>\n",
              "      <td>klasa1</td>\n",
              "    </tr>\n",
              "    <tr>\n",
              "      <th>3</th>\n",
              "      <td>fioletowy</td>\n",
              "      <td>1</td>\n",
              "      <td>59.5</td>\n",
              "      <td>klasa1</td>\n",
              "    </tr>\n",
              "    <tr>\n",
              "      <th>4</th>\n",
              "      <td>czerwony</td>\n",
              "      <td>3</td>\n",
              "      <td>48.5</td>\n",
              "      <td>klasa3</td>\n",
              "    </tr>\n",
              "    <tr>\n",
              "      <th>5</th>\n",
              "      <td>zielony</td>\n",
              "      <td>4</td>\n",
              "      <td>48.5</td>\n",
              "      <td>klasa2</td>\n",
              "    </tr>\n",
              "    <tr>\n",
              "      <th>6</th>\n",
              "      <td>brazowy</td>\n",
              "      <td>2</td>\n",
              "      <td>51.5</td>\n",
              "      <td>klasa1</td>\n",
              "    </tr>\n",
              "    <tr>\n",
              "      <th>7</th>\n",
              "      <td>fioletowy</td>\n",
              "      <td>3</td>\n",
              "      <td>53.5</td>\n",
              "      <td>klasa3</td>\n",
              "    </tr>\n",
              "    <tr>\n",
              "      <th>8</th>\n",
              "      <td>niebieski</td>\n",
              "      <td>1</td>\n",
              "      <td>61.5</td>\n",
              "      <td>klasa3</td>\n",
              "    </tr>\n",
              "    <tr>\n",
              "      <th>9</th>\n",
              "      <td>czerwony</td>\n",
              "      <td>5</td>\n",
              "      <td>65.5</td>\n",
              "      <td>klasa1</td>\n",
              "    </tr>\n",
              "  </tbody>\n",
              "</table>\n",
              "</div>"
            ],
            "text/plain": [
              "       kolor  rozmiar  cena etykiety klas\n",
              "0    zielony        2  50.5        klasa1\n",
              "1   czerwony        3  52.5        klasa2\n",
              "2  niebieski        4  57.5        klasa1\n",
              "3  fioletowy        1  59.5        klasa1\n",
              "4   czerwony        3  48.5        klasa3\n",
              "5    zielony        4  48.5        klasa2\n",
              "6    brazowy        2  51.5        klasa1\n",
              "7  fioletowy        3  53.5        klasa3\n",
              "8  niebieski        1  61.5        klasa3\n",
              "9   czerwony        5  65.5        klasa1"
            ]
          },
          "metadata": {},
          "execution_count": 12
        }
      ]
    },
    {
      "cell_type": "code",
      "metadata": {
        "colab": {
          "base_uri": "https://localhost:8080/"
        },
        "id": "IAZ2FvgiOxVf",
        "outputId": "b17f91ff-71e8-411f-d12f-17e2450e30ff"
      },
      "source": [
        "rev_map = {v: k for k, v in map.items()}   #proces odwrotny, czyli przywrócenie wartości porządkowych z wartości liczbowych\n",
        "df['rozmiar'].map(rev_map)"
      ],
      "execution_count": 13,
      "outputs": [
        {
          "output_type": "execute_result",
          "data": {
            "text/plain": [
              "0      M\n",
              "1      L\n",
              "2     XL\n",
              "3      S\n",
              "4      L\n",
              "5     XL\n",
              "6      M\n",
              "7      L\n",
              "8      S\n",
              "9    XXL\n",
              "Name: rozmiar, dtype: object"
            ]
          },
          "metadata": {},
          "execution_count": 13
        }
      ]
    },
    {
      "cell_type": "code",
      "metadata": {
        "colab": {
          "base_uri": "https://localhost:8080/"
        },
        "id": "EXeR9tE1P3mz",
        "outputId": "d0a24070-4f44-43d2-9703-8a83eedc54f6"
      },
      "source": [
        "map_klasa = {label:idx for idx,label in enumerate(np.unique(df['etykiety klas']))} #konwersja przy użyciu funkcji enumerate()\n",
        "map_klasa"
      ],
      "execution_count": 14,
      "outputs": [
        {
          "output_type": "execute_result",
          "data": {
            "text/plain": [
              "{'klasa1': 0, 'klasa2': 1, 'klasa3': 2}"
            ]
          },
          "metadata": {},
          "execution_count": 14
        }
      ]
    },
    {
      "cell_type": "code",
      "metadata": {
        "colab": {
          "base_uri": "https://localhost:8080/",
          "height": 363
        },
        "id": "l-m0qqPkQJLh",
        "outputId": "7438e5cc-488a-4e7d-8d1d-d62c527bcc52"
      },
      "source": [
        "df['etykiety klas'] = df['etykiety klas'].map(map_klasa) #zastosowanie mapowania do zaimplementowania wartości liczbowej do zbioru danych\n",
        "df"
      ],
      "execution_count": 15,
      "outputs": [
        {
          "output_type": "execute_result",
          "data": {
            "text/html": [
              "<div>\n",
              "<style scoped>\n",
              "    .dataframe tbody tr th:only-of-type {\n",
              "        vertical-align: middle;\n",
              "    }\n",
              "\n",
              "    .dataframe tbody tr th {\n",
              "        vertical-align: top;\n",
              "    }\n",
              "\n",
              "    .dataframe thead th {\n",
              "        text-align: right;\n",
              "    }\n",
              "</style>\n",
              "<table border=\"1\" class=\"dataframe\">\n",
              "  <thead>\n",
              "    <tr style=\"text-align: right;\">\n",
              "      <th></th>\n",
              "      <th>kolor</th>\n",
              "      <th>rozmiar</th>\n",
              "      <th>cena</th>\n",
              "      <th>etykiety klas</th>\n",
              "    </tr>\n",
              "  </thead>\n",
              "  <tbody>\n",
              "    <tr>\n",
              "      <th>0</th>\n",
              "      <td>zielony</td>\n",
              "      <td>2</td>\n",
              "      <td>50.5</td>\n",
              "      <td>0</td>\n",
              "    </tr>\n",
              "    <tr>\n",
              "      <th>1</th>\n",
              "      <td>czerwony</td>\n",
              "      <td>3</td>\n",
              "      <td>52.5</td>\n",
              "      <td>1</td>\n",
              "    </tr>\n",
              "    <tr>\n",
              "      <th>2</th>\n",
              "      <td>niebieski</td>\n",
              "      <td>4</td>\n",
              "      <td>57.5</td>\n",
              "      <td>0</td>\n",
              "    </tr>\n",
              "    <tr>\n",
              "      <th>3</th>\n",
              "      <td>fioletowy</td>\n",
              "      <td>1</td>\n",
              "      <td>59.5</td>\n",
              "      <td>0</td>\n",
              "    </tr>\n",
              "    <tr>\n",
              "      <th>4</th>\n",
              "      <td>czerwony</td>\n",
              "      <td>3</td>\n",
              "      <td>48.5</td>\n",
              "      <td>2</td>\n",
              "    </tr>\n",
              "    <tr>\n",
              "      <th>5</th>\n",
              "      <td>zielony</td>\n",
              "      <td>4</td>\n",
              "      <td>48.5</td>\n",
              "      <td>1</td>\n",
              "    </tr>\n",
              "    <tr>\n",
              "      <th>6</th>\n",
              "      <td>brazowy</td>\n",
              "      <td>2</td>\n",
              "      <td>51.5</td>\n",
              "      <td>0</td>\n",
              "    </tr>\n",
              "    <tr>\n",
              "      <th>7</th>\n",
              "      <td>fioletowy</td>\n",
              "      <td>3</td>\n",
              "      <td>53.5</td>\n",
              "      <td>2</td>\n",
              "    </tr>\n",
              "    <tr>\n",
              "      <th>8</th>\n",
              "      <td>niebieski</td>\n",
              "      <td>1</td>\n",
              "      <td>61.5</td>\n",
              "      <td>2</td>\n",
              "    </tr>\n",
              "    <tr>\n",
              "      <th>9</th>\n",
              "      <td>czerwony</td>\n",
              "      <td>5</td>\n",
              "      <td>65.5</td>\n",
              "      <td>0</td>\n",
              "    </tr>\n",
              "  </tbody>\n",
              "</table>\n",
              "</div>"
            ],
            "text/plain": [
              "       kolor  rozmiar  cena  etykiety klas\n",
              "0    zielony        2  50.5              0\n",
              "1   czerwony        3  52.5              1\n",
              "2  niebieski        4  57.5              0\n",
              "3  fioletowy        1  59.5              0\n",
              "4   czerwony        3  48.5              2\n",
              "5    zielony        4  48.5              1\n",
              "6    brazowy        2  51.5              0\n",
              "7  fioletowy        3  53.5              2\n",
              "8  niebieski        1  61.5              2\n",
              "9   czerwony        5  65.5              0"
            ]
          },
          "metadata": {},
          "execution_count": 15
        }
      ]
    },
    {
      "cell_type": "code",
      "metadata": {
        "colab": {
          "base_uri": "https://localhost:8080/"
        },
        "id": "ENJ-y8cXQMox",
        "outputId": "5318d0ca-bef4-4ed8-9f38-d747c63b8c14"
      },
      "source": [
        "#alternatywna wersja funkcji mapowania poprzez użycie biblioteki sklearn i LabelEncoder\n",
        "from sklearn.preprocessing import LabelEncoder \n",
        "klasa_et = LabelEncoder()\n",
        "y = klasa_et.fit_transform(df['etykiety klas'].values)    # klasa_et.inverse_transform(y)\n",
        "y"
      ],
      "execution_count": 16,
      "outputs": [
        {
          "output_type": "execute_result",
          "data": {
            "text/plain": [
              "array([0, 1, 0, 0, 2, 1, 0, 2, 2, 0])"
            ]
          },
          "metadata": {},
          "execution_count": 16
        }
      ]
    },
    {
      "cell_type": "code",
      "metadata": {
        "colab": {
          "base_uri": "https://localhost:8080/"
        },
        "id": "EyoWzxdAQPY5",
        "outputId": "b9d7f667-3058-4d2b-ff6d-da4cd959d96e"
      },
      "source": [
        "X = df[['kolor', 'rozmiar', 'cena']].values \n",
        "kolor_et = LabelEncoder()\n",
        "X[:, 0] = kolor_et.fit_transform(X[:, 0]) #transformowanie pierwszej kolumny (w tym przypadku koloru) z wartości nominalnych na wartości liczbowe\n",
        "X"
      ],
      "execution_count": 17,
      "outputs": [
        {
          "output_type": "execute_result",
          "data": {
            "text/plain": [
              "array([[4, 2, 50.5],\n",
              "       [1, 3, 52.5],\n",
              "       [3, 4, 57.5],\n",
              "       [2, 1, 59.5],\n",
              "       [1, 3, 48.5],\n",
              "       [4, 4, 48.5],\n",
              "       [0, 2, 51.5],\n",
              "       [2, 3, 53.5],\n",
              "       [3, 1, 61.5],\n",
              "       [1, 5, 65.5]], dtype=object)"
            ]
          },
          "metadata": {},
          "execution_count": 17
        }
      ]
    },
    {
      "cell_type": "code",
      "metadata": {
        "id": "e6A0eFlKQSk5"
      },
      "source": [
        "from sklearn.preprocessing import OneHotEncoder #kodowanie gorącojedynkowe\n",
        "from sklearn.compose import ColumnTransformer  #transformacja kolumn\n",
        "\n",
        "ohe = ColumnTransformer([(\"kolor\", OneHotEncoder(), [0])], remainder = 'passthrough')\n",
        "X = ohe.fit_transform(X)\n",
        "labelencoder_X = LabelEncoder()\n",
        "X[:, 0] = labelencoder_X.fit_transform(X[:, 0])"
      ],
      "execution_count": 18,
      "outputs": []
    },
    {
      "cell_type": "code",
      "metadata": {
        "colab": {
          "base_uri": "https://localhost:8080/",
          "height": 363
        },
        "id": "iEPETH7cQWu5",
        "outputId": "c871fd30-074d-44f5-ef34-ac71ea67190c"
      },
      "source": [
        " pd.get_dummies(df[['cena', 'kolor', 'rozmiar']]) #funkcja manekina"
      ],
      "execution_count": 19,
      "outputs": [
        {
          "output_type": "execute_result",
          "data": {
            "text/html": [
              "<div>\n",
              "<style scoped>\n",
              "    .dataframe tbody tr th:only-of-type {\n",
              "        vertical-align: middle;\n",
              "    }\n",
              "\n",
              "    .dataframe tbody tr th {\n",
              "        vertical-align: top;\n",
              "    }\n",
              "\n",
              "    .dataframe thead th {\n",
              "        text-align: right;\n",
              "    }\n",
              "</style>\n",
              "<table border=\"1\" class=\"dataframe\">\n",
              "  <thead>\n",
              "    <tr style=\"text-align: right;\">\n",
              "      <th></th>\n",
              "      <th>cena</th>\n",
              "      <th>rozmiar</th>\n",
              "      <th>kolor_brazowy</th>\n",
              "      <th>kolor_czerwony</th>\n",
              "      <th>kolor_fioletowy</th>\n",
              "      <th>kolor_niebieski</th>\n",
              "      <th>kolor_zielony</th>\n",
              "    </tr>\n",
              "  </thead>\n",
              "  <tbody>\n",
              "    <tr>\n",
              "      <th>0</th>\n",
              "      <td>50.5</td>\n",
              "      <td>2</td>\n",
              "      <td>0</td>\n",
              "      <td>0</td>\n",
              "      <td>0</td>\n",
              "      <td>0</td>\n",
              "      <td>1</td>\n",
              "    </tr>\n",
              "    <tr>\n",
              "      <th>1</th>\n",
              "      <td>52.5</td>\n",
              "      <td>3</td>\n",
              "      <td>0</td>\n",
              "      <td>1</td>\n",
              "      <td>0</td>\n",
              "      <td>0</td>\n",
              "      <td>0</td>\n",
              "    </tr>\n",
              "    <tr>\n",
              "      <th>2</th>\n",
              "      <td>57.5</td>\n",
              "      <td>4</td>\n",
              "      <td>0</td>\n",
              "      <td>0</td>\n",
              "      <td>0</td>\n",
              "      <td>1</td>\n",
              "      <td>0</td>\n",
              "    </tr>\n",
              "    <tr>\n",
              "      <th>3</th>\n",
              "      <td>59.5</td>\n",
              "      <td>1</td>\n",
              "      <td>0</td>\n",
              "      <td>0</td>\n",
              "      <td>1</td>\n",
              "      <td>0</td>\n",
              "      <td>0</td>\n",
              "    </tr>\n",
              "    <tr>\n",
              "      <th>4</th>\n",
              "      <td>48.5</td>\n",
              "      <td>3</td>\n",
              "      <td>0</td>\n",
              "      <td>1</td>\n",
              "      <td>0</td>\n",
              "      <td>0</td>\n",
              "      <td>0</td>\n",
              "    </tr>\n",
              "    <tr>\n",
              "      <th>5</th>\n",
              "      <td>48.5</td>\n",
              "      <td>4</td>\n",
              "      <td>0</td>\n",
              "      <td>0</td>\n",
              "      <td>0</td>\n",
              "      <td>0</td>\n",
              "      <td>1</td>\n",
              "    </tr>\n",
              "    <tr>\n",
              "      <th>6</th>\n",
              "      <td>51.5</td>\n",
              "      <td>2</td>\n",
              "      <td>1</td>\n",
              "      <td>0</td>\n",
              "      <td>0</td>\n",
              "      <td>0</td>\n",
              "      <td>0</td>\n",
              "    </tr>\n",
              "    <tr>\n",
              "      <th>7</th>\n",
              "      <td>53.5</td>\n",
              "      <td>3</td>\n",
              "      <td>0</td>\n",
              "      <td>0</td>\n",
              "      <td>1</td>\n",
              "      <td>0</td>\n",
              "      <td>0</td>\n",
              "    </tr>\n",
              "    <tr>\n",
              "      <th>8</th>\n",
              "      <td>61.5</td>\n",
              "      <td>1</td>\n",
              "      <td>0</td>\n",
              "      <td>0</td>\n",
              "      <td>0</td>\n",
              "      <td>1</td>\n",
              "      <td>0</td>\n",
              "    </tr>\n",
              "    <tr>\n",
              "      <th>9</th>\n",
              "      <td>65.5</td>\n",
              "      <td>5</td>\n",
              "      <td>0</td>\n",
              "      <td>1</td>\n",
              "      <td>0</td>\n",
              "      <td>0</td>\n",
              "      <td>0</td>\n",
              "    </tr>\n",
              "  </tbody>\n",
              "</table>\n",
              "</div>"
            ],
            "text/plain": [
              "   cena  rozmiar  ...  kolor_niebieski  kolor_zielony\n",
              "0  50.5        2  ...                0              1\n",
              "1  52.5        3  ...                0              0\n",
              "2  57.5        4  ...                1              0\n",
              "3  59.5        1  ...                0              0\n",
              "4  48.5        3  ...                0              0\n",
              "5  48.5        4  ...                0              1\n",
              "6  51.5        2  ...                0              0\n",
              "7  53.5        3  ...                0              0\n",
              "8  61.5        1  ...                1              0\n",
              "9  65.5        5  ...                0              0\n",
              "\n",
              "[10 rows x 7 columns]"
            ]
          },
          "metadata": {},
          "execution_count": 19
        }
      ]
    },
    {
      "cell_type": "code",
      "metadata": {
        "id": "vkB_SU5YQZPJ"
      },
      "source": [
        "import glob\n",
        "import pandas as pd\n",
        "\n",
        "df.to_csv('koszulki2.csv')"
      ],
      "execution_count": 20,
      "outputs": []
    }
  ]
}