{
  "nbformat": 4,
  "nbformat_minor": 0,
  "metadata": {
    "colab": {
      "name": "Algorytmy3.ipynb",
      "provenance": [],
      "collapsed_sections": []
    },
    "kernelspec": {
      "name": "python3",
      "display_name": "Python 3"
    },
    "language_info": {
      "name": "python"
    }
  },
  "cells": [
    {
      "cell_type": "code",
      "metadata": {
        "id": "elXJHPSNNdP1"
      },
      "source": [
        "import pandas as pd \n",
        "import numpy as np\n",
        "import os\n",
        "from io import StringIO #biblioteka służąca jako \"plik pamięci\". W tym przypadku służy do ilustracji problemu."
      ],
      "execution_count": 1,
      "outputs": []
    },
    {
      "cell_type": "code",
      "metadata": {
        "colab": {
          "base_uri": "https://localhost:8080/",
          "height": 424
        },
        "id": "V8J3TqZ3TaGX",
        "outputId": "f642f301-e935-46b8-a644-02f5d04ecbd9"
      },
      "source": [
        "dane = \\\n",
        "'''kol,COMMENT,CATEGORY\n",
        "0,Nice song﻿,ham\n",
        "1,I love song ﻿,ham\n",
        "2,I love song ﻿,ham\n",
        "3,\"860,000,000 lets make it first female to reach one billion!! Share it and replay it! ﻿\",ham\n",
        "4,shakira is best for worldcup﻿,ham\n",
        "5,The best world cup song ever!!!!﻿,ham\n",
        "6,I love﻿,ham\n",
        "7,SEE SOME MORE SONG OPEN GOOGLE AND TYPE Shakira GuruOfMovie﻿,spam\n",
        "8,Awesome ﻿,ham\n",
        "9,I like shakira..﻿,ham\n",
        "10,Shakira - Waka Waka <br />LOVE THIS SONG!!!!!!!!!!!!!!!﻿,ham\n",
        "11,Why so many disliked??????!!!!!!😯﻿,ham\n",
        "12,I don&#39;t think this song will ever get old ﻿,ham\n",
        "13,Love song﻿,ham\n",
        "14,wery good﻿,ham\n",
        "15,\"Every time I hear this song, I think about Iniesta&#39;s goal against the Netherlands...﻿\",ham\n",
        "16,Whose watching this in 2015. If so hi-5﻿,ham\n",
        "17,I love this song so much &lt;3<br />Keep em&#39; coming!﻿,ham\n",
        "18,i love this song thumsb up to you﻿,ham\n",
        "19,Waka best one﻿,ham\n",
        "20,5 years later i still love this song <br />~Axy665﻿,ham\n",
        "21,Like﻿,ham\n",
        "22,Check out this playlist on YouTube:﻿,spam\n",
        "23,Her voice sounds weird and plus she&#39;s cute for a blonde﻿,ham\n",
        "24,\"Why there are so many dislikes. This song is so... awesome. It sounds like we MUST STOP BE RACISTS!!! If I could, I would like it 1,000,000,000 times!!!!!!!!!!!!!!!!!!!!!!!!!!!!!!!!!!!!!!!!!!!!!!﻿\",ham\n",
        "25,Nice love itttttttt wurkkkkkkkkkkkkkkkkkkkkkkkkkkkkkkkkkkkkkkkkkkkkkkkkkkkkkkkkkkkkkkkkkkkkkkkkkkkkkkkkkkkkkkkkkkkkkkkkkkkkk﻿,ham\n",
        "26,still watching in 2015...﻿,ham\n",
        "27,Shakira is my favourite singer. Wooooo﻿,ham\n",
        "28,i remember this song!,ham\n",
        "29,Like﻿,ham\n",
        "30,Whose who are watching this in 2015.  LIKE!﻿,ham\n",
        "31,\"Support the fight for your 4th amendment right to privacy in your home.  Stop the NSA spying on Americans with the un Patriot Act Renewal. Rand Paul has spent 10.5 hours on the Senate floor in a Protest and Filibuster fighting for our  Constitution that this Nation is founded on. Join the fight at Rand Paul dot com. Spread The Word. We Have Someone That Cares About Our Nation.  Email your Senators, Congress men and women, tell them to support Rand. Tell the news to support Rand too Senator Rand Paul was up until <a href=\"\"http://www.youtube.com/watch?v=pRpeEdMmmQ0&amp;t=1m00s\"\">1:00</a> am this passed Saturday morning fighting for our Constitution buy postponing the vote until this week. Our Constitution Matters join Rand in the fight to protect <a href=\"\"http://it.ht\"\">it.ht</a> to privacy in your home and business.. Senator Rand Paul was up until <a href=\"\"http://www.youtube.com/watch?v=pRpeEdMmmQ0&amp;t=1m00s\"\">1:00</a> am this passed Saturday  morning fighting for our Constitution buy postponing the vote until this week. Our Constitution Matters To All Of US, Help Rand Protect It by joining the fright for it.﻿\",spam\n",
        "32,best song in world﻿,ham\n",
        "33,BEAUTIFUL,ham\n",
        "34,Good song:-)﻿,ham\n",
        "35,She&#39;s such an awesome entertainer. And pretty too! &lt;3 Shakira!﻿,ham\n",
        "36,Check out this video on YouTube:﻿,spam\n",
        "37,Love this song﻿,ham\n",
        "38,Love this song! My soccer team made a cd for our couch with this song on it!﻿,ham\n",
        "39,fave song﻿,ham\n",
        "40,Watching in 2015﻿,ham\n",
        "41,I felt old when I realized that this song was 5 years old...﻿,ham\n",
        "42,love Shakira!﻿,ham\n",
        "43,One of the best song of all the time﻿,ham\n",
        "44,I really am madly in love with this woman!!﻿,ham\n",
        "45,i totally love this song. absolutely fantastic! i love ya shakira!﻿,ham\n",
        "46,im still watching in 2015﻿,ham\n",
        "47,the song is sad﻿,ham\n",
        "48,goood﻿,ham\n",
        "49,The best FIFA world cup song for sure.﻿,ham\n",
        "50,Nice vídeo shakira good﻿,ham\n",
        "51,\"coby this USL and past :<br /><a href=\"\"http://adf.ly\"\">http://adf.ly</a> /1HmVtX<br />delete space after y﻿\",spam\n",
        "52,\"see this<br /><a href=\"\"http://adf.ly\"\">http://adf.ly</a> /1HmVtX﻿\",spam\n",
        "53,Waka waka﻿,ham\n",
        "54,she is beautiful but it is not American!﻿,ham\n",
        "55,Thumbs up if your watching in 2015﻿,spam\n",
        "56,ILOVETHISSONG﻿,ham\n",
        "57,Subscribe me please. i&#39;ll promise i&#39;ll sub back﻿,spam\n",
        "58,Lamest World Cup song ever! This time FOR Africa? You mean IN Africa. It wasn&#39;t a Live Aid event or something. She made it seem like a charity case for them instead of a proud moment. Where was Ricky Martin when you needed him! SMH﻿,ham\n",
        "59,My friend Sam loves this song😊😊😊😊😊😊😊😊😊😊😊😊😊😊😊😊😊😊😊😊😊😊😊😊😊😊😊😊😊😊😊😊😊😊😊😊😊😊😊😊😊😊😊😊😊😊﻿,ham\n",
        "60,Check out this video on YouTube:﻿,spam\n",
        "61,I love you﻿,ham\n",
        "62,\"To help shakira become the first female to hit 1billiom views, I&#39;ve decided to watch this Video at least one a day. Everyday! Shakifans we r so close just hit the replay button !!!﻿\",ham\n",
        "63,ILove shakira ﻿,ham\n",
        "64,It was  cool   the best   song ever  ﻿,ham\n",
        "65,OMG LISTEN TO THIS ITS SOO GOOD!! :D﻿,ham\n",
        "66,My uncle said he will stop smoking if this comment gets 500 likes! Please like this comment! Thanks.﻿,spam\n",
        "67,nice song﻿,ham\n",
        "68,waka waka﻿,ham\n",
        "69,super music﻿,ham\n",
        "70,How could 108k people dislike this song or video﻿,ham\n",
        "71,Love it!!!!!!!!!!!!!!!!💜﻿,ham\n",
        "72,I swear Shakira keeps getting more and more gorgeous! She definitely looks more gorgeous with her hair this way than super curly.﻿,ham\n",
        "73,Youtube comments be like<br />This is so 5 years ago. ﻿,ham\n",
        "74,it pisses me off a bit that blank space has more views (868 mio) than this. meh ﻿,ham\n",
        "75,Your the best♣♥﻿,ham\n",
        "76,I love you  ;p﻿,ham\n",
        "77,I love  Shakira !!!!!! ❤🎵🎶🎼🎸﻿,ham\n",
        "78,\"This song is special, because is a song for Africa  and I am an African ﻿\",ham\n",
        "79,&lt;3 this song so much.SHAKIRA YOUR A REALLY GOOD ARTIST.﻿,ham\n",
        "80,I love shakira<br />❤❤❤❤﻿,ham\n",
        "81,\"Definitley the song for 2010 when im not listening to gypsy SHAKIRA ROCKS<br /><span class=\"\"proflinkWrapper\"\"><span class=\"\"proflinkPrefix\"\">+</span><a class=\"\"proflink\"\" href=\"\"https://plus.google.com/101721377578919894134\"\" oid=\"\"101721377578919894134\"\">shakiraVEVO</a></span>﻿\",spam\n",
        "82,I remember that torunament like it was today.﻿,ham\n",
        "83,Thank you. Please give your email. ﻿,spam\n",
        "84,beautiful﻿,ham\n",
        "85,Like﻿,ham\n",
        "86,\"Shakira you are so beautiful. You are lovely, lively.. We love you.﻿\",ham\n",
        "87,GREAT!!!﻿,ham\n",
        "88,Best World Cup Song﻿,ham\n",
        "89,Fuck it was the best ever 0687119038 nummber of patrik kluivert his son share !﻿,spam\n",
        "90,This song is so beauty,ham\n",
        "91,I heard this when I was only 6 years old and I still love it﻿,ham\n",
        "92,nice song﻿,ham\n",
        "93,waka waka:-):-):-)﻿,ham\n",
        "94,Oh my god go to 1 billion of replay i love shakira﻿,ham\n",
        "95,i love her﻿,ham\n",
        "96,I love this song &amp;I love shakira&lt;333♡♡♡♡♡♡♡♡♡♡♡《33☆☆☆﻿,ham\n",
        "97,Yea stil the best WK song ever<br />Thumbs up of you think the same<br />﻿,spam\n",
        "98,I liked<br />﻿,ham\n",
        "99,I like this song ﻿,ham\n",
        "100,i like it :)﻿,ham\n",
        "101,Waka waka !!!﻿,ham\n",
        "102,Amazing song﻿,ham\n",
        "103,Cool song ﻿,ham\n",
        "104,i love u  shakira﻿,ham\n",
        "105,Waka waka ﻿,ham\n",
        "106,this song sucks﻿,ham\n",
        "107,Lol I love this song﻿,ham\n",
        "108,Shakira﻿,ham\n",
        "109,Subscribe my channel  I RECORDING FIFA 15 GOALS WATCH NOW :D﻿,spam\n",
        "110,Wow...5 years<br />﻿,ham\n",
        "111,subscribe to me and I wil subscribe to you back﻿,spam\n",
        "112,You best singer﻿,ham\n",
        "113,5 years soon!﻿,ham\n",
        "114,Like﻿,ham\n",
        "115,Wanderfol is love or miusic﻿,ham\n",
        "116,waka waka﻿,ham\n",
        "117,BEST SONG EVER X3333333333﻿,ham\n",
        "118,\"Very pleasant to hear, haha, good.﻿\",ham\n",
        "119,love!!!!﻿,ham\n",
        "120,wow,ham\n",
        "121,Waka waka eh eh﻿,ham\n",
        "122,Cutie girl and beautiful song,ham\n",
        "123,Love you shkira﻿,ham\n",
        "124,\"I believe that soccer promotes terrorism. Bad choice, Shakira.﻿\",ham\n",
        "125,I loved this song when I was in my teenage years!﻿,ham\n",
        "126,Lip synch is terrible﻿,ham\n",
        "127,\"Shakira is different :) She is so happy all the time and she is spending for Africa :)<br />She can dance , sing and she speaks 4 languages﻿\",ham\n",
        "128,Gusttavo Lima Você não me conhece <br />Check out﻿,spam\n",
        "129,Best world cup offical song﻿,ham\n",
        "130,5 years ago damn ﻿,ham\n",
        "131,Very nice,ham\n",
        "132,\"Help shakira&#39;s waka waka be the first song by a female artist to reach 1 billion views.<br />(dark horse is ahead by roughly 100 million more views, and roar has only 50 million more views)<br /><a href=\"\"https://www.youtube.com/watch?v=pRpeEdMmmQ0\"\">https://www.youtube.com/watch?v=pRpeEdMmmQ0</a>﻿\",spam\n",
        "133,like me﻿,ham\n",
        "134,SHAKIRA SONG WAKA WAKA﻿,ham\n",
        "135,So underrated better<br />Than  Katy perry :/ but in not saying Katy is bad but she has no meaning to her songs. Shakira has<br />Meaningful songs these are the songs which bring memories and vibe&#39;s. I will miss it.   <br />   ﻿,ham\n",
        "136,I love this song and expect the World Cup .﻿,ham\n",
        "137,Good times ...﻿,ham\n",
        "138,\"It makes me happy instantly, and makes me forgot everything bad happening!﻿\",ham\n",
        "139,Love this song so much! One of my faves! Xxx﻿,ham\n",
        "140,\"Hi, nice song Shakira! (Sorry for bad Brazilian)﻿\",ham\n",
        "141,BEST SONG! GO SHAKI :D﻿,ham\n",
        "142,THIS IS SHIT AND SOOOOO AUTOTUNED﻿,ham\n",
        "143,....I stil lisening this :)﻿,ham\n",
        "144,sexy shakira﻿,ham\n",
        "145,I love you Shakiria!!!!!!﻿,ham\n",
        "146,Me and my aunt love this song!!!!!﻿,ham\n",
        "147,I subscribed it<br />﻿,spam\n",
        "148,Check out this playlist on YouTube<br />﻿,spam\n",
        "149,Top three Shakira songs (my choice) <br /><br />1- Waka Waka (it&#39;s time for Africa)<br /><br />2- Can&#39;t remember to forget you <br /><br />3- Empire<br /><br />Like this comment if u like Shakira ﻿,spam\n",
        "150,Check out this video on YouTube:﻿,spam\n",
        "151,Check out this playlist on YouTube:Central ﻿,spam\n",
        "152,\"If you could take time &amp; spare a min to read this, then thank you. <br /><br />Im a rapper, if we&#39;re gonna be honest theres thousands maybe even millions<br /><br />of those in the world but not too many with ambition, dedication &amp; passion.<br /><br />I don&#39;t have money for huge YouTube advertisements or incredible music videos<br /><br />so all im left with is comments to expose my music.<br /><br />If you could take a moment and give me a chance ill make you a believer<br /><br />I would love? nothing more than a loyal following on YouTube. For anyone who <br /><br />Reads this could you press the &quot;THUMBS UP&quot;  others will see it.<br /><br />Doing so will help me push closer to my dream :) Thank You﻿\",spam\n",
        "153,please visit my channel﻿,spam\n",
        "154,Pleas subscribe my channel GamezZMTA﻿,spam\n",
        "155,Pleas subscribe my channel﻿,spam\n",
        "156,Pleas subscribe GamezZ MTA my channel<br />﻿,spam\n",
        "157,\"cool song check out my animal trafficking petition.<br /><a href=\"\"http://www.thepetitionsite.com/387/433/550/stop-animal-trafficking/?cid=headerClick\"\">http://www.thepetitionsite.com/387/433/550/stop-animal-trafficking/?cid=headerClick</a>﻿\",spam\n",
        "158,Check out this video on YouTube: ﻿,spam\n",
        "159,Subscribe and Win a CAP<br />       ☆☆☆☆☆﻿,spam\n",
        "160,Check out this playlist on YouTube:﻿,spam\n",
        "161,Hey guys love this but check out this girl name cause she knows how to dance so search up ej ba dancing.﻿,spam\n",
        "162,\"if you want to win money at hopme click here <a href=\"\"https://www.paidverts.com/ref/sihaam01\"\">https://www.paidverts.com/ref/sihaam01</a> it&#39;s work 100/100﻿\",spam\n",
        "163,i am from Brazil please subscribe my channel love you all﻿,spam\n",
        "164,Could Spanish people understand this?<br /><br />Any way&#39;s I how you doing subscribe to me I brake things<br /><br />-_-﻿,spam\n",
        "165,PLEASSSSSSSSSSSSSSSS SUBSCRIBEEEEEEEEEE MY CHANNNNNNELLL PLZZ﻿,spam\n",
        "166,Check out this video on YouTube:﻿,spam\n",
        "167,\"New way to make money easily and spending 20 minutes daily --&gt; <a href=\"\"https://www.paidverts.com/ref/Marius1533\"\">https://www.paidverts.com/ref/Marius1533</a>﻿\",spam\n",
        "168,There are beautiful songs please subscribe﻿,spam\n",
        "169,Can this channel get 500+ subscribers? You can make that happen :D﻿,spam\n",
        "170,\"I really love watching football and also I’ve started off making income with out financial risk from acquiring bonus deals. It’s this weird technique where you wager on something with one bookmakers and bet against it on Betfair. You secure the bonus as income . A chap named Jim Vanstone is finding the wagers free on his own website Vanstone Secrets (Google it!). I’ve made about 500 quid thus far. And it is cost-free. I guess the bookies pay him to obtain new consumers, yet this actually works.\",spam\n",
        "171,and how many subscribers compared to her over a million,spam\n",
        "172,\"I absolutely adore watching football plus I’ve started earning income with out risk from claiming bonus deals. It’s a weird technique where you put money on something with one bookmakers and put money against it on Betfair. You acquire the bonus as income . A lad named Jim Vanstone is selecting the wagers free on his website Vanstone Secrets (Google it!). I have generated about 600 quid so far. And it’s free. I assume the bookmakers pay him to get new men and women, but it succeeds.\",spam\n",
        "173,hahahahah ♥♥♥♥ :D like vines ?  Subscribe to me for daily vines,spam\n",
        "174,\"Hi there, have you heard about DribbleProShot? Just do a search on Google. On their web site you can watch a smart free video featuring the best way to significantly boost your football aka soccer skills in no time... It turned Nick into a much better football or soccer player...His team mates were definitily amazed! I hope it will help you also...\",spam\n",
        "175,\"Hey, have you tried &quot;DribblePROshot&quot; yet? Just do a search on Google. On their website you will find a useful free video demonstrating the right way to enormously improve your soccer or football skills in no time... It transformed Fausto into a substantially better football/soccer player...to the amazement of his team mates. Hopefully it works for you too.\",spam\n",
        "176,\"Still amazing this song!! I did a French Kpop Parody. Please come on my Channel to watch it. Share, suscribe, comment Thanks\",spam\n",
        "177, subscribe to my feed,spam\n",
        "178,:D subscribe to me for daily vines,spam\n",
        "179,\"Hey guys whats up? I found this app that lets you get free gift card vouchers like psn cards,X-box live cards and even amazon gift cards. For free! All you have to do is  simply just download the app from the app store. It is called juno wallet. All you have to do is just sign up for the app and then complete a few surveys or just download some other free apps and you get money like 10 cents. Also, if you type in the code IM2458444. You will also start off with $0.25 free!! \",spam\n",
        "180,\"You guys should check out this EXTRAORDINARY website called FIREPA.COM .   You can make money online and start working from home today as I am!   I am making over $3,000+ per month at FIREPA.COM !   Visit FIREPA.COM and check it out!   Lake   . Duzafizz . Singlewave . Spourmo . Burder . Colorful . Claster . Incandescent . Ambitious . Winooze . Absorbing . Macabre . Crestboot . Boxium . Womanly . Tan . Ybuwyn . Forgetful . Pepelexa . Zealous\",spam\n",
        "181,Waka Waka!:D   Check out my new HALLOWEEN VIDEO!:),spam\n",
        "182,we are 14 year old boys we are trying to enter in the music industry Maybe we are just a dreamers but we are not the? only one. Please give us one chance to prove ourself to you. we know these things are annoying as hell we are sorry? about that. But we do anything to get music heard. Please visit our channel subscribe if you like and thumb this comment up so everyone can see we have made a song called: I Wanna Play A Game please take a look on our channel Thankss!!!,spam\n",
        "183, plz i wilsubscribe me frndzzl subscribe u back,spam\n",
        "184,\"You guys should check out this EXTRAORDINARY website called MONEYGQ.COM .   You can make money online and start working from home today as I am!   I am making over $3,000+ per month at MONEYGQ.COM !   Visit MONEYGQ.COM and check it out!  Why does the fragile swim enlist the person? How does the ice audit the frequent son? The fantastic chance describes the rate.\",spam\n",
        "185,SUBSCRIBE ME AND I REQUITE,spam\n",
        "186,\"Stop Wasting Up Your Time and  Get Paid To Mess Around On Facebook And Twitter!  GET PAID UPTO $25 to $35 AN HOUR... Only at 4NetJobs.com  Work from the Comfort of your Home... We are Currently Hiring People from all Over the World,  For a Wide Range of Social Media Jobs on Sites such as Facebook,Twitter and YouTube.  You don&#39;t Need any Prior Skills or Experience and You can Begin Work Immediately!  You Can Easily Make $4000 to $5000+ Monthly Income…Only at 4NetJobs.com\",spam\n",
        "187,I love this!!!!! This is one of my fave songs now and I just subscribed :) :) :),spam\n",
        "188,\"You guys should check out this EXTRAORDINARY website called ZONEPA.COM .   You can make money online and start working from home today as I am!   I am making over $3,000+ per month at ZONEPA.COM !   Visit Zonepa.com and check it out!  Why does the statement conciliate the acidic stretch? The earth recognizes the money. When does the numberless number transport the trade?\",spam\n",
        "189,How To Make A Lot Of Money Fast,spam\n",
        "190,visit &quot; ww estiloproduction com &quot; best website to make money,spam\n",
        "191,Message :   GTA V  $20  FIFA 14 $15  PS4  $200  Galaxy S4 mini $250  Ipad 4   $200  visit the site hh.nl,spam\n",
        "192,\"Stop Wasting Up Your Time and  Get Paid To Mess Around On Facebook And Twitter!  GET PAID UPTO $25 to $35 AN HOUR... Only at 4NetJobs.com  Work from the Comfort of your Home... We are Currently Hiring People from all Over the World,  For a Wide Range of Social Media Jobs on Sites such as Facebook,Twitter and YouTube.  You don&#39;t Need any Prior Skills or Experience and You can Begin Work Immediately!  You Can Easily Make $4000 to $5000+ Monthly Income…Only at 4NetJobs.com\",spam\n",
        "193,Being paid to respond to fast paid surveys from home has enabled me to give up working and make more than 4500 bucks monthly.  To read more go to this web site bit.ly\\1bSefQe,spam\n",
        "194,\"Hello Guys...I Found a Way to Make Money Online You Can Get Paid To Mess Around On Facebook And Twitter! GET PAID UPTO $25 to $35 AN HOUR...Only at 4NetJobs.com Work from the Comfort of your Home... They are Currently Hiring People from all Over the World, For a Wide Range of Social Media Jobs on Sites such as Facebook,Twitter and YouTube You don&#39;t Need any Prior Skills or Experience and You can Begin Work Immediately! You Can Easily Make $4000 to $5000+ Monthly Income…Only at 4NetJobs.com\",spam\n",
        "195,\"You guys should check out this EXTRAORDINARY website called ZONEPA.COM . You can make money online and start working from home today as I am! I am making over $3,000+ per month at ZONEPA.COM ! Visit Zonepa.com and check it out! The meat discusss the successful memory. How does the peaceful unit arbitrate the guide? The addition designs the worried loss.\",spam\n",
        "196,\"You guys should check out this EXTRAORDINARY website called ZONEPA.COM . You can make money online and start working from home today as I am! I am making over $3,000+ per month at ZONEPA.COM ! Visit Zonepa.com and check it out! How does the mother approve the axiomatic insurance? The fear appoints the roll. When does the space prepare the historical shame?\",spam\n",
        "197,\"You guys should check out this EXTRAORDINARY website called ZONEPA.COM . You can make money online and start working from home today as I am! I am making over $3,000+ per month at ZONEPA.COM ! Visit Zonepa.com and check it out! The plausible summer submits the behavior. When does the grass check the peaceful seat? The country strategizes the edge.\",spam\n",
        "198,Check out my channel :),spam\n",
        "199,subscribe  my,spam\n",
        "200,\"Hello Guys...I Found a Way to Make Money Online You Can Get Paid To Mess Around On Facebook And Twitter! GET PAID UPTO $25 to $35 AN HOUR...Only at 4NetJobs.com Work from the Comfort of your Home... They are Currently Hiring People from all Over the World, For a Wide Range of Social Media Jobs on Sites such as Facebook,Twitter and YouTube You don&#39;t Need any Prior Skills or Experience and You can Begin Work Immediately! You Can Easily Make $4000 to $5000+ Monthly Income…Only at 4NetJobs.com\",spam\n",
        "201,Please visit this Website: oldchat.tk,spam\n",
        "202,Please visit this Website: oldchat.tk,spam\n",
        "203,\"Hello everyone my name&#39;s Anderson and i&#39;m a singer. not expecting to buy subscribers with words BUT to gain them with my voice. I might not be the best but my voice is different (in a good way) and i&#39;ll work harder than anyone out there to get better, &#39;cuz &quot;yeah&quot; i have a dream  a HUGE one, (who doesn&#39;t?) so please take 3 minutes of your time to check out my covers. Give me a chance you won&#39;t regret it If you feel like subscribing that&#39;d be awesome and it&#39;d mean the world to me THANK YOU SO MUCH\",spam\n",
        "204,Check Out Daneja Good Girl,spam\n",
        "205,\"Hello Guys...I Found a Way to Make Money Online You Can Get Paid To Mess Around On Facebook And Twitter! GET PAID UPTO $25 to $35 AN HOUR...Only at 4NetJobs.com Work from the Comfort of your Home... They are Currently Hiring People from all Over the World, For a Wide Range of Social Media Jobs on Sites such as Facebook,Twitter and YouTube You don&#39;t Need any Prior Skills or Experience and You can Begin Work Immediately! You Can Easily Make $4000 to $5000+ Monthly Income…Only at 4NetJobs.com\",spam\n",
        "206,Subscribe to my Youtube Channel!! :) Suscribite a mi canal de Youtube -WhatUKnow,spam\n",
        "207,Check out my bass cover of hips don&#39;t lie by shakira!,spam\n",
        "208,Subscribe to my channel :)  &lt;3,spam\n",
        "209,The britishs called that soccer but you know the true word is football and the US Foot is called rugby. That works like that in EUW ( Germany/ Netherland/ France/ Portugal/ Belgium/ Spain/ ... ) Just because the Britishs don&#39;t agree to be like us because they are UNIQUE. That&#39;s the reason why they also refused to have euro (€) as money,spam\n",
        "210,subscribe now!!!!!! love the song!!!!!! love football!!!,spam\n",
        "211,so beutiful,ham\n",
        "212,so beutiful,ham\n",
        "213,She&#39;s so pretty,ham\n",
        "214,I like,ham\n",
        "215,She is perfect,ham\n",
        "216,1 753 682 421 GANGNAM STYLE ^^,spam\n",
        "217,Your a fucking bitch,ham\n",
        "218,this song is racist,ham\n",
        "219,Where are Shakifans?,ham\n",
        "220,like!!!!!,ham\n",
        "221,I want new song,ham\n",
        "222,Shakira is perfect,ham\n",
        "223,Shakira :-*,ham\n",
        "224,I remember this :D,ham\n",
        "225,Waka waka,ham\n",
        "226,This makes me miss the world cup,ham\n",
        "227,best song eva,ham\n",
        "228,I love it,ham\n",
        "229,\"Believe that Jesus Christ is your savior for all your sins. If you truly believe in Jesus Christ to be your savior for all your sins then you will go to Heaven. If you believe in Jesus Christ then you are saved and you are in salvation and you have gained God’s righteousness. It matters not how much you have sinned in the past, in the present and especially in the future. Believe that Jesus Christ is your savior and you will go to Heaven forever and that is the whole truth. Spread the truth. \",spam\n",
        "230,\"  Perhaps you have seen the newest Miley Cyrus SECRET video ?   She&#39;s sucking an old man&#39;s cock ,  If you wish to see her , check out the celebrity website beneath :   miley-secret-video.co.uk \",spam\n",
        "231,\"  Haha , Miley Cyrus has done it once again  Today someone leeched a porno video with her on a celeb site   I believe the website link is : miley-celeb-news.co.uk in case you want to view it.... \",spam\n",
        "232,\" I really can&#39;t comprehend Miley Cyrus , she actually is a high profile and she tapes herself banging Today a video was leeched with her sucking and fucking The video has been posted at the celebrity website under :  miley-celeb-news.co.uk \",spam\n",
        "233,her voice is so wow!,ham\n",
        "234,Shakira :-*,ham\n",
        "235,:),ham\n",
        "236,wow,ham\n",
        "237,I love you,ham\n",
        "238,i like and love so much people all friends..... I love Shakira ^^,ham\n",
        "239,:),ham\n",
        "240,Shakira I love you,ham\n",
        "241,beautiful,ham\n",
        "242,Shakira is very beautiful,ham\n",
        "243,She is good,ham\n",
        "244,God she is so hot,ham\n",
        "245,She is perfect! &lt;3,ham\n",
        "246,Wow,ham\n",
        "247,Shakira voice sound spanish but that is what make the music sound amazing ♥I LOVE IT,ham\n",
        "248,CHECK OUT DANEJA GOOD GIRL,spam\n",
        "249,Check out my covers please!,spam\n",
        "250,\"Hey Music Fans I really appreciate any of you who will take the time to read this, and check my music out! I&#39;m just a 15 year old boy DREAMING of being a successful MUSICIAN in the music world. I do lots of covers, and piano covers. But I don&#39;t have money to advertise. A simple thumbs up to my comment, a comment on my videos or a SUBSCRIPTION would be a step forward! It will only be a few seconds of your life that you won&#39;t regret!!! Thank u to all the people who just give me a chance! :) \",spam\n",
        "251,\"Echa un vistazo a la remezcla! / Check out the remix!  MILEY CYRUS - WRECKING BALL (THE HOUSE OF EDM REMIX)  MILEY CYRUS - WRECKING BALL (VINCENT T. REMIX)  ...click, enlace, suscríbase! / ...click, link, subscribe!\",spam\n",
        "252,Hey check out our new musicvideo &#39;&#39;Life&#39;s a celebration&#39;&#39; Peace !,spam\n",
        "253,Hi. Check out and share our songs.,spam\n",
        "254,Subscribe &amp; Like /watch?v=5tu9gN1l310,spam\n",
        "255,/watch?v=Dtqcftr1Fac JUSTIEN BIEBER CAR 2013. LIKE&amp;SUBSCRIBE,spam\n",
        "256,check out our bands page on youtube killtheclockhd - check out some of our original songs including &quot;your disguise&quot;,spam\n",
        "257,HI! CHECK OUT OUR AWESOME COVERS! AND SAY WHAT YOU THINK!,spam\n",
        "258,\"I hope everyone is in good spirits I&#39;m a hard working student who&#39;s also a passionate singer I look foward to the day when I can make my own music to share But for now I&#39;ve just been doing covers. Check out my channel, I&#39;ve done Covers of Miley Cyrus, Imagine Dragons, Lana Del Rey, Drake, Macklemore, Pink and countless others.  Subscribe only if you want to. My goal isn&#39;t to become famous but to  inspire FYI this isn&#39;t spamming, everyone has a right to freedom of speech. Thanks \",spam\n",
        "259,please visit our web: wellcomemd.blogfa.com,spam\n",
        "260,PLEASE CHECK OUT MY VIDEO CALLED &quot;WE LOVE MIND MASTER IT&quot; THANKS,spam\n",
        "261,She is perfect,ham\n",
        "262,ｈｔｔｐ://ｗｗｗ.ｅｂａｙ.ｃｏｍ/ｕｓｒ/ｓｈｏｅｃｏｌｌｅｃｔｏｒ314,spam\n",
        "263,Beautiful song beautiful girl it works,ham\n",
        "264,Shakira :-*,ham\n",
        "265,OMG LOVE THIS!,ham\n",
        "266,Ouf Ouf OUFFFFFFFFFFFFFFFFFF!!!!!!!! :),ham\n",
        "267,awesome,ham\n",
        "268,cool,ham\n",
        "269,This Song will never get old,ham\n",
        "270,I always have goose bumps at that part,ham\n",
        "271,Love it,ham\n",
        "272,I love this song,ham\n",
        "273,\"I want to see Shakira, not football :)\",ham\n",
        "274,good!!,ham\n",
        "275,Recommend:  Apple iPad 4th Gen 32GB Unlocked Wi-Fi+4G 9.7in White Price:$390  Apple iPhone 5 (Latest Model) - 32GB - Black Price:$385  Samsung Galaxy S4 S IV 4 with 16GB New White Price:$360  Sony 60-inch 3D LED HDTV Price:$510  All-in-One PCs: Apple MacBook Pro: Apple MacBook Air Price:$320  Camera :Nikon D90 SLR Camera /18-55mm /55-200mm 32GB  Price:$390   Ultrabooks: SONY VAIO Pro 13 Intel Core i5 4GB 128GB Price:$515  +++++++++++++++    Purchase online Website is:  Taaee.com,spam\n",
        "276,&quot;HELP THE HUMANITY WITH YOUR SIGN IN TO THIS LINK WITH YOUR WHOLEHEARTED SUPPORT IF YOU SAY &quot;NO&quot; TO DISCRIMINATION. “UNITED WE STAND “  WE WILL BRING THE CHANGE TOGETHER.  IMPOSSIBLE ITSELF SAYS I  M  POSSIBLE&quot;  YOU ARE THE WINNERS OF MY SUCCESS!CHEERS TO ALL MY LOVING BROTHERS AND SISTERS !  PLEASE SHARE THIS LINK ON FACEBOOK TO SUPPORT AGAINST DISCRIMINATION.  tinyurl(dot)com(slash)mxh2y77  FEAR NONE BUT GOD !!!,spam\n",
        "277,\"Part 5. Comforter of the afflicted, pray for us Help of Christians, pray for us Queen of Angels, pray for us Queen of Patriarchs, pray for us Queen of Prophets, pray for us Queen of Apostles, pray for us Queen of Martyrs, pray for us Queen of Confessors, pray for us Queen of Virgins, pray for us Queen of all Saints, pray for us Queen conceived without original sin, pray for us Queen of the most holy Rosary, pray for us Queen of the family, pray for us Queen of peace, pray for us \",spam\n",
        "278,\"Part 2. Holy Mary, pray for us Holy Mother of God, pray for us Holy Virgin of virgins, pray for us Mother of Christ, pray for us Mother of divine grace, pray for us Mother most pure, pray for us Mother most chaste, pray for us Mother inviolate, pray for us Mother undefiled, pray for us Mother most amiable, pray for us Mother most admirable, pray for us Mother of good counsel, pray for us Mother of our Creator, pray for us Mother of our Redeemer, pray for us \",spam\n",
        "279,Hi.. Everyone.. If anyone after real online work. I can help u. Earn lots of money. It&#39;s fun. It&#39;s real and affiliated company.. U not think u r working. It&#39;s easy and enjoyable. For more info contact me .. Neeru105@ gmail.com,spam\n",
        "280,Nice song ^_^,ham\n",
        "281,god she is so sexy! drives me crazy!,ham\n",
        "282,WOw,ham\n",
        "283,shakira is the best!,ham\n",
        "284,Nice,ham\n",
        "285,Shakira,ham\n",
        "286,Shakira :-*,ham\n",
        "287,the best!,ham\n",
        "288,\"Hey Youtubers and All Music lover&#39;s, Guess most of you all skip these comments, but for you who is still reading this, thanks ! I dont have any money for advertisiments, no chance of getting heard, nothing. All that&#39;s left is spam, sorry. Im 17, Rapper/Singer from Estonia. Please listen my new cover on my account. You wont regret it. Give me just a chance, please. Take half a second of your life and thumb this comment up. It will maybe change my life, for real. Thank you Wafence \",spam\n",
        "289,do you want to make some easy money? check out my page tvcmcadavid.weebly . com dont miss out on this opportunity give thumbs up i would  apprecitate it.,spam\n",
        "290,\"PLEASE CHECK OUT THIS VIDEO CALLED &quot;WE LOVE MIND MASTER IT&quot;, THANK U :)\",spam\n",
        "291,WAYS TO MAKE MONEY 50k Per Month Search google Now &gt;&gt; 9nl.me/make-money-without-investment-1,spam\n",
        "292,Meet The Richest Online Marketer  NOW CLICK : bit.ly/make-money-without-adroid,spam\n",
        "293,How did you know that people makes another account just for subscribing itself and liking??? :),spam\n",
        "294,:) I&#39;ll subscribe to you. You look Nice :),spam\n",
        "295,Hey dickwad - we&#39;re all africans. The colour of your skin just tells us something about how long ago your ancestors left Africa.   Check out Baba Brinkman - he has a song called &quot;I&#39;m A African&quot;   Go learn something.,spam\n",
        "296,WOW muslims are really egoistic..... 23% of the World population and not in this video or donating 1 dollar to the poor ones in Africa :( shame on those terrorist muslims,spam\n",
        "297,Wats Good Go Check Out My Music On Da Channel Ik Yall Got me,spam\n",
        "298,I Know Y&#39;all Can Check Out Amy Music Because Yall Got Me Go To Da Channel,spam\n",
        "299,Northland Paranormal Society is now on YouTube! Check out our channel of real Paranormal evidence!! facebook/ Northland Paranormal Society!!!,spam\n",
        "300,\"Hello everyone :) I know most of you probably pass up these kind of comments, but for those who are still reading this, thanks! I don’t have any money for advertisements, no chance of getting heard, nothing. I live in such a small town... If this comes off as spam, sorry. I’m an instrumental songwriter from Columbus, Mississippi. Please go to my channel and check out my original music. It would be highly appreciated if you thumbs up this comment so my music can be heard! Thank you, Adam Whitney \",spam\n",
        "301,SO THEN HOW ARE YOU GOING TO CALL YOURSELF A INSTRUMENTAL SONGWRITER IF THERES NO SINGING THERES NO SONG TO WRITE!?!?! LOL.   YOU GOT ALOT TO LEARN KID BUT HEY DON&#39;T FORGET TO SUBSCRIBE!,spam\n",
        "302,\"Hello everyone :) I know most of you probably pass up these kind of comments, but for those who are still reading this, thanks! I don’t have any money for advertisements, no chance of getting heard, nothing. I live in such a small town... If this comes off as spam, sorry. I’m an instrumental songwriter from Columbus, Mississippi. Please go to my channel and check out my original music. It would be highly appreciated if you thumbs up this comment so my music can be heard! Thank you, Adam Whitney \",spam\n",
        "303,Please go in and see our Channel and subscribe :-). It would be Nice mate.,spam\n",
        "304,wanna earn money online without investment.....just visit this link .....therglove.blogspot.in/2013/08/blog-post_10.html,spam\n",
        "305,\"Hello everyone :) I know most of you probably pass up these kind of comments, but for those who are still reading this, thanks! I don’t have any money for advertisements, no chance of getting heard, nothing. I live in such a small town... If this comes off as spam, sorry. I’m an instrumental songwriter from Columbus, Mississippi. Please go to my channel and check out my original music. It would be highly appreciated if you thumbs up this comment so my music can be heard! Thank you, Adam Whitney \",spam\n",
        "306,CHECK OUT THE DUBSTEP VERSION,spam\n",
        "307,i can to make money,spam\n",
        "308,Wanna Laugh??? Please SUBSCRIBE to our channel!!!,spam\n",
        "309,Earn money for being online with 0 efforts!    bit.ly\\14gKvDo,spam\n",
        "310,\"Could you please check out my covers on my channel? I do covers like Adele, Kodaline, Imagine Dragons...and more. Please if you could spare a few minutes,  could you have a listen to one or two of my covers , Feel free to comment and subscribe :) Thank you! \",spam\n",
        "311,adf.ly /KlD3Y,spam\n",
        "312,Check out  these Irish guys cover  of Avicii&#39;s  Wake Me Up!  Just search...  &quot;wake me up Fiddle Me Silly&quot; Worth a listen  for the gorgeous fiddle player!,spam\n",
        "313,\"Hello everyone :) I know most of you probably pass up these kind of comments, but for those who are still reading this, thanks! I don’t have any money for advertisements, no chance of getting heard, nothing... If this comes off as spam, sorry. I am a video animator, just trying to make it up into the video animation industry. Please give me the chance to prove myself to you. Please visit my channel, subscribe if you like and thumb this comment up, so everyone can see! Thank You! \",spam\n",
        "314,\"Hello everyone :) I know most of you probably pass up these kind of comments, but for those who are still reading this, thanks! I don’t have any money for advertisements, no chance of getting heard, nothing... If this comes off as spam, sorry. I am a video animator, just trying to make it up into the video animation industry. Please give me the chance to prove myself to you. Please visit my channel, subscribe if you like and thumb this comment up, so everyone can see! Thank You! \",spam\n",
        "315,\"Hey youtubers... I really appreciate all of you who took the time, to read this, I am just a 19 year old boy who wants to be a successful musician in the music world. I dont have any money to advertise my channel, If you could just visit my channel, comment on my video or subscribe, that would be great.... It will only be few seconds of your life..... Thank u to all the people who just gave me a chance l really appreciate it  \",spam\n",
        "316,subscribe to my pagee please.,spam\n",
        "317,please subscribe to my page. thanks.,spam\n",
        "318,\"Hey, hit this shit up while yall can, they killed the versace remix. Just type in CGE &quot;Versace Freestyle (Get Money)&quot; Shot by Ja-Wan Gardner and help them reach 1 million views.\",spam\n",
        "319,\"Hey guys and girls check out Comedy Recipe for hilarious you tube videos, pranks, and crank calls!\",spam\n",
        "320,\"Subscribe me, I will? subscribe you back!!!\",spam\n",
        "321,\"Subscribe me, I will? subscribe you back!!!\",spam\n",
        "322,Please.. Check my channel out:) I subscribe back..;),spam\n",
        "323,I really ask nicely to view my vids:) I subscribe back..,spam\n",
        "324,******* Facebook is LAME and so 2004! Check out ------------ swagFriends com Make thousands of cool new friends everyday! Join this new movement!,spam\n",
        "325,Hi. Check out and share our songs.,spam\n",
        "326,CHECK OUT partyman318 FR GOOD TUNEZ!! :D,spam\n",
        "327,\"Hey youtubers... I really appreciate all of you who took the time, to read this, I am just a 19 year old boy who wants to be a successful musician in the music world. I dont have any money to advertise my channel, If you could just visit my channel, comment on my video or subscribe, that would be great.... It will only be few seconds of your life..... Thank u to all the people who just gave me a chance l really appreciate it  \",spam\n",
        "328,\"Hey Music Fans I really appreciate any of you who will take the time to read this, and check my music out! I&#39;m just a 15 year old boy DREAMING of being a successful MUSICIAN in the music world. I do lots of covers, and piano covers. But I don&#39;t have money to advertise. A simple thumbs up to my comment, a comment on my videos or a SUBSCRIPTION would be a step forward! It will only be a few seconds of your life that you won&#39;t regret!!! Thank u to all the people who just give me a chance! :)\",spam\n",
        "329,\"Hey Music Fans I really appreciate any of you who will take the time to read this, and check my music out! I&#39;m just a 15 year old boy DREAMING of being a successful MUSICIAN in the music world. I do lots of covers, and piano covers. But I don&#39;t have money to advertise. A simple thumbs up to my comment, a comment on my videos or a SUBSCRIPTION would be a step forward! It will only be a few seconds of your life that you won&#39;t regret!!! Thank u to all the people who just give me a chance! :) \",spam\n",
        "330,\"Hey Music Fans I really appreciate any of you who will take the time to read this, and check my music out! I&#39;m just a 15 year old boy DREAMING of being a successful MUSICIAN in the music world. I do lots of covers, and piano covers. But I don&#39;t have money to advertise. A simple thumbs up to my comment, a comment on my videos or a SUBSCRIPTION would be a step forward! It will only be a few seconds of your life that you won&#39;t regret!!! Thank u to all the people who just give me a chance! :) \",spam\n",
        "331,Hi. Check out and share our songs.,spam\n",
        "332,Hi. Check out and share our songs.,spam\n",
        "333,Hi.Check out and share our songs.,spam\n",
        "334,\"Hey Music Fans I really appreciate any of you who will take the time to read this, and check my music out! I&#39;m just a 15 year old boy DREAMING of being a successful MUSICIAN in the music world. I do lots of covers, and piano covers. But I don&#39;t have money to advertise. A simple thumbs up to my comment, a comment on my videos or a SUBSCRIPTION would be a step forward! It will only be a few seconds of your life that you won&#39;t regret!!! Thank u to all the people who just give me a chance! :) \",spam\n",
        "335,\"Hey, I am doing the Forty Hour famine so I&#39;ll be giving up on food and social working for 40 hours. I&#39;m doing this to raise money for African people who can&#39;t experience the luxuries that we can. So can you donate to give them a chance?  Any amount would do :)  Click on the link and donate h t t p : / / 4 0 h f . c o m . a u / A n t h o n y L a m Thanks :)\",spam\n",
        "336,Love itt and ppl check out my channel!!!,spam\n",
        "337,SUBSCRIBE MY CHANNEL,spam\n",
        "338,adf.ly / KlD3Y,spam\n",
        "339,adf.ly / KlD3Y,spam\n",
        "340,check out my new video,spam\n",
        "341,\"Hey Music Fans I really appreciate all of you who take time to read this, and check my music out! I&#39;m just a 15 year old boy DREAMING of being a successful MUSICIAN in the music world. I do lots of covers, and piano covers. But I dont have money to advertise. A simple thumbs up to my comment, a comment on my videos or a SUBSCRIPTION would be a step forward! It will only be a few seconds of your life that u won&#39;t regret!!! Thank u to all the people who just give me a chance it means a lot! :)\",spam\n",
        "342,\"Hello everyone, It Is not my intention to spam and am truly sorry If anyone Is annoyed by this but just please hear me out.  I am a rapper, singer, music producer and a song writer and have been making music for a while now, eight years to be exact.  I enjoy making all types of music that anyone can listen to, doesn&#39;t have me talking about killing anyone and most importantly, focuses on the quality of the music.  Please check out my page, It&#39;s only a click away.  Thank you and have a nice day :)\",spam\n",
        "343,******* Facebook is LAME and so 2004! Check out ------------ swagFriends com Make thousands of cool new friends everyday! Join this new movement!,spam\n",
        "344,Please check out and send to others Freedom and Justice are on the line!  Please Google:   Steven L. Reed Case Lands in Supreme Court---thanks!,spam\n",
        "345,\"Nice to meet You - this is Johnny: 1. If You already know my music - thumb this up, because You found it this way, too. 2. If You want to hear original songs completely made by 1 person, continue reading:  I sing, write original music+lyrics &amp; play guitar, bass, drums &amp; keyboards. I&#39;m a 1-man-band. My music is completely independent &amp; 100% listener-supported. If You want to hear it &amp; if You&#39;re willing to help record new album - click on my name/picture.  Enjoy the music - wish You awesome day!\",spam\n",
        "346,hey you ! check out the channel of Alvar Lake !!,spam\n",
        "347,\"Hi -this is Johnny: 1. If You already know my music - thumb this up, because You found it this way, too. 2. If You want to hear original songs completely made by 1 person, continue reading:  I sing, write original music+lyrics &amp; play guitar, bass, drums &amp; keyboards. I&#39;m a 1-man-band. My music is completely independent &amp; 100% listener-supported. If You want to hear it &amp; if You&#39;re willing to help record new album - click on my name/picture.  Thank You &amp; enjoy the music - wish You awesome day!\",spam\n",
        "348,wow,ham\n",
        "349,Love this song!!!,ham\n",
        "350,Love this song !!!!!!,ham\n",
        "351,Check out this video on YouTube:<br />&quot;This Time for Africa&quot;. One for Trayvon!  And Our MOTHERland<br />Thank-you Shakira﻿,spam\n",
        "352,i watched this because of the large amount of views and now i am convinced it is because that girl is so hot,ham\n",
        "353,\"O peoples of the earth, I have seen how you perform every form of evil at your leisure! You cease not from reveling in that which I hate! Behold, you murder the innocent day and night and plot evil against your neighbor! You stand up for the rights of those who commit abomination and clap your hands as wickedness is celebrated openly in the streets!... O MOST PERVERSE AND ABOMINABLE GENERATION, SHALL I NOT REPAY?!  Hear the Word of The Lord - TrumpetCallOfGodOnline.  co m\",spam\n",
        "354,this song always gives me chills! :),ham\n",
        "355,I love dis song!! 3,ham\n",
        "356,I WILL NEVER FORGET THIS SONG IN MY LIFE LIKE THIS COMMENT OF YOUR HEARING THIS SONG FOR LIKE A YEAR!!!!!,spam\n",
        "357,********OMG Facebook is OLD! Check out  -----------------&gt; swagFriends com Make thousands of cool new friends everyday! Join the movement!,spam\n",
        "358,\"Hey Music Fans I really appreciate all of you who take time to read this, and check my music out! I&#39;m just a 15 year old boy DREAMING of being a successful MUSICIAN in the music world. I do lots of covers, and piano covers. But I dont have money to advertise. A simple thumbs up to my comment, a comment on my videos or a SUBSCRIPTION would be a step forward! It will only be a few seconds of your life that u won&#39;t regret!!! Thank u to all the people who just give me a chance it means a lot! :)\",spam\n",
        "359,**CHECK OUT MY NEW MIXTAPE**** **CHECK OUT MY NEW MIXTAPE**** **CHECK OUT MY NEW MIXTAPE*** ***CHECK OUT MY NEW MIXTAPE******CHECK OUT MY NEW MIXTAPE**** **CHECK OUT MY NEW MIXTAPE**** **CHECK OUT MY NEW MIXTAPE*** ***CHECK OUT MY NEW MIXTAPE******CHECK OUT MY NEW MIXTAPE**** **CHECK OUT MY NEW MIXTAPE**** **CHECK OUT MY NEW MIXTAPE*** ***CHECK OUT MY NEW MIXTAPE******CHECK OUT MY NEW MIXTAPE**** **CHECK OUT MY NEW MIXTAPE**** **CHECK OUT MY NEW MIXTAPE*** ***CHECK OUT MY NEW MIXTAPE****,spam\n",
        "360,**CHECK OUT MY NEW MIXTAPE**** **CHECK OUT MY NEW MIXTAPE**** **CHECK OUT MY NEW MIXTAPE*** ***CHECK OUT MY NEW MIXTAPE******CHECK OUT MY NEW MIXTAPE**** **CHECK OUT MY NEW MIXTAPE**** **CHECK OUT MY NEW MIXTAPE*** ***CHECK OUT MY NEW MIXTAPE******CHECK OUT MY NEW MIXTAPE**** **CHECK OUT MY NEW MIXTAPE**** **CHECK OUT MY NEW MIXTAPE*** ***CHECK OUT MY NEW MIXTAPE******CHECK OUT MY NEW MIXTAPE**** **CHECK OUT MY NEW MIXTAPE**** **CHECK OUT MY NEW MIXTAPE*** ***CHECK OUT MY NEW MIXTAPE****,spam\n",
        "361,**CHECK OUT MY NEW MIXTAPE**** **CHECK OUT MY NEW MIXTAPE**** **CHECK OUT MY NEW MIXTAPE*** ***CHECK OUT MY NEW MIXTAPE******CHECK OUT MY NEW MIXTAPE**** **CHECK OUT MY NEW MIXTAPE**** **CHECK OUT MY NEW MIXTAPE*** ***CHECK OUT MY NEW MIXTAPE******CHECK OUT MY NEW MIXTAPE**** **CHECK OUT MY NEW MIXTAPE**** **CHECK OUT MY NEW MIXTAPE*** ***CHECK OUT MY NEW MIXTAPE******CHECK OUT MY NEW MIXTAPE**** **CHECK OUT MY NEW MIXTAPE**** **CHECK OUT MY NEW MIXTAPE*** ***CHECK OUT MY NEW MIXTAPE****,spam\n",
        "362,Waka waka she rules,ham\n",
        "363,she is sooooo beautiful!,ham\n",
        "364,well done shakira,ham\n",
        "365,I love this song because we sing it at Camp all the time!!,ham\n",
        "366,I love this song for two reasons: 1.it is about Africa 2.i was born in beautiful south Africa,ham\n",
        "367,wow,ham\n",
        "368,Shakira u are so wiredo,ham\n",
        "369,Shakira is the best dancer,ham\n",
        "'''\n",
        "df_wino = pd.read_csv(StringIO(dane))\n",
        "df_wino"
      ],
      "execution_count": 2,
      "outputs": [
        {
          "output_type": "execute_result",
          "data": {
            "text/html": [
              "<div>\n",
              "<style scoped>\n",
              "    .dataframe tbody tr th:only-of-type {\n",
              "        vertical-align: middle;\n",
              "    }\n",
              "\n",
              "    .dataframe tbody tr th {\n",
              "        vertical-align: top;\n",
              "    }\n",
              "\n",
              "    .dataframe thead th {\n",
              "        text-align: right;\n",
              "    }\n",
              "</style>\n",
              "<table border=\"1\" class=\"dataframe\">\n",
              "  <thead>\n",
              "    <tr style=\"text-align: right;\">\n",
              "      <th></th>\n",
              "      <th>kol</th>\n",
              "      <th>COMMENT</th>\n",
              "      <th>CATEGORY</th>\n",
              "    </tr>\n",
              "  </thead>\n",
              "  <tbody>\n",
              "    <tr>\n",
              "      <th>0</th>\n",
              "      <td>0</td>\n",
              "      <td>Nice song﻿</td>\n",
              "      <td>ham</td>\n",
              "    </tr>\n",
              "    <tr>\n",
              "      <th>1</th>\n",
              "      <td>1</td>\n",
              "      <td>I love song ﻿</td>\n",
              "      <td>ham</td>\n",
              "    </tr>\n",
              "    <tr>\n",
              "      <th>2</th>\n",
              "      <td>2</td>\n",
              "      <td>I love song ﻿</td>\n",
              "      <td>ham</td>\n",
              "    </tr>\n",
              "    <tr>\n",
              "      <th>3</th>\n",
              "      <td>3</td>\n",
              "      <td>860,000,000 lets make it first female to reach...</td>\n",
              "      <td>ham</td>\n",
              "    </tr>\n",
              "    <tr>\n",
              "      <th>4</th>\n",
              "      <td>4</td>\n",
              "      <td>shakira is best for worldcup﻿</td>\n",
              "      <td>ham</td>\n",
              "    </tr>\n",
              "    <tr>\n",
              "      <th>...</th>\n",
              "      <td>...</td>\n",
              "      <td>...</td>\n",
              "      <td>...</td>\n",
              "    </tr>\n",
              "    <tr>\n",
              "      <th>365</th>\n",
              "      <td>365</td>\n",
              "      <td>I love this song because we sing it at Camp al...</td>\n",
              "      <td>ham</td>\n",
              "    </tr>\n",
              "    <tr>\n",
              "      <th>366</th>\n",
              "      <td>366</td>\n",
              "      <td>I love this song for two reasons: 1.it is abou...</td>\n",
              "      <td>ham</td>\n",
              "    </tr>\n",
              "    <tr>\n",
              "      <th>367</th>\n",
              "      <td>367</td>\n",
              "      <td>wow</td>\n",
              "      <td>ham</td>\n",
              "    </tr>\n",
              "    <tr>\n",
              "      <th>368</th>\n",
              "      <td>368</td>\n",
              "      <td>Shakira u are so wiredo</td>\n",
              "      <td>ham</td>\n",
              "    </tr>\n",
              "    <tr>\n",
              "      <th>369</th>\n",
              "      <td>369</td>\n",
              "      <td>Shakira is the best dancer</td>\n",
              "      <td>ham</td>\n",
              "    </tr>\n",
              "  </tbody>\n",
              "</table>\n",
              "<p>370 rows × 3 columns</p>\n",
              "</div>"
            ],
            "text/plain": [
              "     kol                                            COMMENT CATEGORY\n",
              "0      0                                         Nice song﻿      ham\n",
              "1      1                                      I love song ﻿      ham\n",
              "2      2                                      I love song ﻿      ham\n",
              "3      3  860,000,000 lets make it first female to reach...      ham\n",
              "4      4                      shakira is best for worldcup﻿      ham\n",
              "..   ...                                                ...      ...\n",
              "365  365  I love this song because we sing it at Camp al...      ham\n",
              "366  366  I love this song for two reasons: 1.it is abou...      ham\n",
              "367  367                                                wow      ham\n",
              "368  368                            Shakira u are so wiredo      ham\n",
              "369  369                         Shakira is the best dancer      ham\n",
              "\n",
              "[370 rows x 3 columns]"
            ]
          },
          "metadata": {},
          "execution_count": 2
        }
      ]
    },
    {
      "cell_type": "code",
      "metadata": {
        "id": "e8dBsDsJTaOQ"
      },
      "source": [
        "df_wino.drop('kol',\n",
        "  axis='columns', inplace=True)"
      ],
      "execution_count": 3,
      "outputs": []
    },
    {
      "cell_type": "code",
      "metadata": {
        "colab": {
          "base_uri": "https://localhost:8080/",
          "height": 424
        },
        "id": "GtVFrKJRUdhn",
        "outputId": "9e0fba04-945b-43ef-f1cb-ce949d2b286b"
      },
      "source": [
        "df_wino"
      ],
      "execution_count": 4,
      "outputs": [
        {
          "output_type": "execute_result",
          "data": {
            "text/html": [
              "<div>\n",
              "<style scoped>\n",
              "    .dataframe tbody tr th:only-of-type {\n",
              "        vertical-align: middle;\n",
              "    }\n",
              "\n",
              "    .dataframe tbody tr th {\n",
              "        vertical-align: top;\n",
              "    }\n",
              "\n",
              "    .dataframe thead th {\n",
              "        text-align: right;\n",
              "    }\n",
              "</style>\n",
              "<table border=\"1\" class=\"dataframe\">\n",
              "  <thead>\n",
              "    <tr style=\"text-align: right;\">\n",
              "      <th></th>\n",
              "      <th>COMMENT</th>\n",
              "      <th>CATEGORY</th>\n",
              "    </tr>\n",
              "  </thead>\n",
              "  <tbody>\n",
              "    <tr>\n",
              "      <th>0</th>\n",
              "      <td>Nice song﻿</td>\n",
              "      <td>ham</td>\n",
              "    </tr>\n",
              "    <tr>\n",
              "      <th>1</th>\n",
              "      <td>I love song ﻿</td>\n",
              "      <td>ham</td>\n",
              "    </tr>\n",
              "    <tr>\n",
              "      <th>2</th>\n",
              "      <td>I love song ﻿</td>\n",
              "      <td>ham</td>\n",
              "    </tr>\n",
              "    <tr>\n",
              "      <th>3</th>\n",
              "      <td>860,000,000 lets make it first female to reach...</td>\n",
              "      <td>ham</td>\n",
              "    </tr>\n",
              "    <tr>\n",
              "      <th>4</th>\n",
              "      <td>shakira is best for worldcup﻿</td>\n",
              "      <td>ham</td>\n",
              "    </tr>\n",
              "    <tr>\n",
              "      <th>...</th>\n",
              "      <td>...</td>\n",
              "      <td>...</td>\n",
              "    </tr>\n",
              "    <tr>\n",
              "      <th>365</th>\n",
              "      <td>I love this song because we sing it at Camp al...</td>\n",
              "      <td>ham</td>\n",
              "    </tr>\n",
              "    <tr>\n",
              "      <th>366</th>\n",
              "      <td>I love this song for two reasons: 1.it is abou...</td>\n",
              "      <td>ham</td>\n",
              "    </tr>\n",
              "    <tr>\n",
              "      <th>367</th>\n",
              "      <td>wow</td>\n",
              "      <td>ham</td>\n",
              "    </tr>\n",
              "    <tr>\n",
              "      <th>368</th>\n",
              "      <td>Shakira u are so wiredo</td>\n",
              "      <td>ham</td>\n",
              "    </tr>\n",
              "    <tr>\n",
              "      <th>369</th>\n",
              "      <td>Shakira is the best dancer</td>\n",
              "      <td>ham</td>\n",
              "    </tr>\n",
              "  </tbody>\n",
              "</table>\n",
              "<p>370 rows × 2 columns</p>\n",
              "</div>"
            ],
            "text/plain": [
              "                                               COMMENT CATEGORY\n",
              "0                                           Nice song﻿      ham\n",
              "1                                        I love song ﻿      ham\n",
              "2                                        I love song ﻿      ham\n",
              "3    860,000,000 lets make it first female to reach...      ham\n",
              "4                        shakira is best for worldcup﻿      ham\n",
              "..                                                 ...      ...\n",
              "365  I love this song because we sing it at Camp al...      ham\n",
              "366  I love this song for two reasons: 1.it is abou...      ham\n",
              "367                                                wow      ham\n",
              "368                            Shakira u are so wiredo      ham\n",
              "369                         Shakira is the best dancer      ham\n",
              "\n",
              "[370 rows x 2 columns]"
            ]
          },
          "metadata": {},
          "execution_count": 4
        }
      ]
    },
    {
      "cell_type": "code",
      "metadata": {
        "colab": {
          "base_uri": "https://localhost:8080/",
          "height": 175
        },
        "id": "bx44t55iV6lo",
        "outputId": "f6a10554-7f2c-47ec-b55e-79ffe2a329bf"
      },
      "source": [
        "df_wino.groupby('CATEGORY').describe() #sporządzenie opisu naszego zbioru danych poprzez grupowanie danych z kolumny 'Category'"
      ],
      "execution_count": 5,
      "outputs": [
        {
          "output_type": "execute_result",
          "data": {
            "text/html": [
              "<div>\n",
              "<style scoped>\n",
              "    .dataframe tbody tr th:only-of-type {\n",
              "        vertical-align: middle;\n",
              "    }\n",
              "\n",
              "    .dataframe tbody tr th {\n",
              "        vertical-align: top;\n",
              "    }\n",
              "\n",
              "    .dataframe thead tr th {\n",
              "        text-align: left;\n",
              "    }\n",
              "\n",
              "    .dataframe thead tr:last-of-type th {\n",
              "        text-align: right;\n",
              "    }\n",
              "</style>\n",
              "<table border=\"1\" class=\"dataframe\">\n",
              "  <thead>\n",
              "    <tr>\n",
              "      <th></th>\n",
              "      <th colspan=\"4\" halign=\"left\">COMMENT</th>\n",
              "    </tr>\n",
              "    <tr>\n",
              "      <th></th>\n",
              "      <th>count</th>\n",
              "      <th>unique</th>\n",
              "      <th>top</th>\n",
              "      <th>freq</th>\n",
              "    </tr>\n",
              "    <tr>\n",
              "      <th>CATEGORY</th>\n",
              "      <th></th>\n",
              "      <th></th>\n",
              "      <th></th>\n",
              "      <th></th>\n",
              "    </tr>\n",
              "  </thead>\n",
              "  <tbody>\n",
              "    <tr>\n",
              "      <th>ham</th>\n",
              "      <td>196</td>\n",
              "      <td>181</td>\n",
              "      <td>wow</td>\n",
              "      <td>4</td>\n",
              "    </tr>\n",
              "    <tr>\n",
              "      <th>spam</th>\n",
              "      <td>174</td>\n",
              "      <td>150</td>\n",
              "      <td>Hey Music Fans I really appreciate any of you ...</td>\n",
              "      <td>4</td>\n",
              "    </tr>\n",
              "  </tbody>\n",
              "</table>\n",
              "</div>"
            ],
            "text/plain": [
              "         COMMENT                                                               \n",
              "           count unique                                                top freq\n",
              "CATEGORY                                                                       \n",
              "ham          196    181                                                wow    4\n",
              "spam         174    150  Hey Music Fans I really appreciate any of you ...    4"
            ]
          },
          "metadata": {},
          "execution_count": 5
        }
      ]
    },
    {
      "cell_type": "code",
      "metadata": {
        "colab": {
          "base_uri": "https://localhost:8080/",
          "height": 206
        },
        "id": "6128sM3KV6vR",
        "outputId": "4aa8b628-6e9d-4990-9f5b-e0928c185e35"
      },
      "source": [
        "df_wino['spam']=df_wino['CATEGORY'].apply(lambda x: 1 if x=='spam' else 0) #przypisanie wartości liczbowych do kolumny 'Category'\n",
        "df_wino.head()"
      ],
      "execution_count": 6,
      "outputs": [
        {
          "output_type": "execute_result",
          "data": {
            "text/html": [
              "<div>\n",
              "<style scoped>\n",
              "    .dataframe tbody tr th:only-of-type {\n",
              "        vertical-align: middle;\n",
              "    }\n",
              "\n",
              "    .dataframe tbody tr th {\n",
              "        vertical-align: top;\n",
              "    }\n",
              "\n",
              "    .dataframe thead th {\n",
              "        text-align: right;\n",
              "    }\n",
              "</style>\n",
              "<table border=\"1\" class=\"dataframe\">\n",
              "  <thead>\n",
              "    <tr style=\"text-align: right;\">\n",
              "      <th></th>\n",
              "      <th>COMMENT</th>\n",
              "      <th>CATEGORY</th>\n",
              "      <th>spam</th>\n",
              "    </tr>\n",
              "  </thead>\n",
              "  <tbody>\n",
              "    <tr>\n",
              "      <th>0</th>\n",
              "      <td>Nice song﻿</td>\n",
              "      <td>ham</td>\n",
              "      <td>0</td>\n",
              "    </tr>\n",
              "    <tr>\n",
              "      <th>1</th>\n",
              "      <td>I love song ﻿</td>\n",
              "      <td>ham</td>\n",
              "      <td>0</td>\n",
              "    </tr>\n",
              "    <tr>\n",
              "      <th>2</th>\n",
              "      <td>I love song ﻿</td>\n",
              "      <td>ham</td>\n",
              "      <td>0</td>\n",
              "    </tr>\n",
              "    <tr>\n",
              "      <th>3</th>\n",
              "      <td>860,000,000 lets make it first female to reach...</td>\n",
              "      <td>ham</td>\n",
              "      <td>0</td>\n",
              "    </tr>\n",
              "    <tr>\n",
              "      <th>4</th>\n",
              "      <td>shakira is best for worldcup﻿</td>\n",
              "      <td>ham</td>\n",
              "      <td>0</td>\n",
              "    </tr>\n",
              "  </tbody>\n",
              "</table>\n",
              "</div>"
            ],
            "text/plain": [
              "                                             COMMENT CATEGORY  spam\n",
              "0                                         Nice song﻿      ham     0\n",
              "1                                      I love song ﻿      ham     0\n",
              "2                                      I love song ﻿      ham     0\n",
              "3  860,000,000 lets make it first female to reach...      ham     0\n",
              "4                      shakira is best for worldcup﻿      ham     0"
            ]
          },
          "metadata": {},
          "execution_count": 6
        }
      ]
    },
    {
      "cell_type": "code",
      "metadata": {
        "id": "P0wXj3kOWdwx"
      },
      "source": [
        "from sklearn.model_selection import train_test_split\n",
        "X_train, X_test, y_train, y_test = train_test_split(df_wino.COMMENT,df_wino.spam, test_size=0.25)"
      ],
      "execution_count": 7,
      "outputs": []
    },
    {
      "cell_type": "code",
      "metadata": {
        "colab": {
          "base_uri": "https://localhost:8080/"
        },
        "id": "_flrzDSsWd0w",
        "outputId": "013462cf-f9fa-43fc-9b72-84fe17bc9e10"
      },
      "source": [
        "from sklearn.feature_extraction.text import CountVectorizer #CountVectorizer to funkcja, która rozdziela zdania na słowa a następnie zamienia słowa na wartości liczbowe, licząc ich ilość w każdym zdaniu\n",
        "corpus = [\n",
        "    'This is the first document.',\n",
        "     'This document is the second document.',\n",
        "     'And this is the third one.',\n",
        "     'Is this the first document?',\n",
        "]\n",
        "v = CountVectorizer() \n",
        "Z = v.fit_transform(corpus)\n",
        "print(v.get_feature_names())\n",
        "print(Z.toarray())"
      ],
      "execution_count": 8,
      "outputs": [
        {
          "output_type": "stream",
          "name": "stdout",
          "text": [
            "['and', 'document', 'first', 'is', 'one', 'second', 'the', 'third', 'this']\n",
            "[[0 1 1 1 0 0 1 0 1]\n",
            " [0 2 0 1 0 1 1 0 1]\n",
            " [1 0 0 1 1 0 1 1 1]\n",
            " [0 1 1 1 0 0 1 0 1]]\n"
          ]
        }
      ]
    },
    {
      "cell_type": "code",
      "metadata": {
        "colab": {
          "base_uri": "https://localhost:8080/"
        },
        "id": "wmi0gnPVWd3q",
        "outputId": "0493b595-b70e-4464-9d93-068649561f75"
      },
      "source": [
        "X_train_count = v.fit_transform(X_train.values)\n",
        "X_train_count.toarray()[:2]"
      ],
      "execution_count": 9,
      "outputs": [
        {
          "output_type": "execute_result",
          "data": {
            "text/plain": [
              "array([[0, 0, 0, ..., 0, 0, 0],\n",
              "       [0, 0, 0, ..., 0, 0, 0]])"
            ]
          },
          "metadata": {},
          "execution_count": 9
        }
      ]
    },
    {
      "cell_type": "code",
      "metadata": {
        "colab": {
          "base_uri": "https://localhost:8080/"
        },
        "id": "vOm4XKtGWd6P",
        "outputId": "81c84bd8-0810-4b98-dc02-b8f017943a70"
      },
      "source": [
        "from sklearn.naive_bayes import MultinomialNB #MultinomialNB to pomocnicza funkcja do kategoryzowania tekstu\n",
        "model = MultinomialNB()\n",
        "model.fit(X_train_count,y_train)"
      ],
      "execution_count": 10,
      "outputs": [
        {
          "output_type": "execute_result",
          "data": {
            "text/plain": [
              "MultinomialNB(alpha=1.0, class_prior=None, fit_prior=True)"
            ]
          },
          "metadata": {},
          "execution_count": 10
        }
      ]
    },
    {
      "cell_type": "code",
      "metadata": {
        "colab": {
          "base_uri": "https://localhost:8080/"
        },
        "id": "QOn2Z3JEXD7o",
        "outputId": "b5f26070-5235-4cbb-c770-e8540578a924"
      },
      "source": [
        "#sprawdzenie jak działa nasz model na przykładzie 'emails'\n",
        "emails = [\n",
        "    'Hey mohan, can we get together to watch footbal game tomorrow?',\n",
        "    'Upto 20% discount on parking, exclusive offer just for you. Dont miss this reward!'\n",
        "]\n",
        "emails_count = v.transform(emails)\n",
        "model.predict(emails_count)"
      ],
      "execution_count": 11,
      "outputs": [
        {
          "output_type": "execute_result",
          "data": {
            "text/plain": [
              "array([1, 1])"
            ]
          },
          "metadata": {},
          "execution_count": 11
        }
      ]
    },
    {
      "cell_type": "code",
      "metadata": {
        "colab": {
          "base_uri": "https://localhost:8080/"
        },
        "id": "JbrkSCyxXD-o",
        "outputId": "6cd36b2e-a4e4-4483-e146-dc8e3e585246"
      },
      "source": [
        "X_test_count = v.transform(X_test) \n",
        "model.score(X_test_count, y_test) #sprawdzenie skuteczności naszego modelu"
      ],
      "execution_count": 12,
      "outputs": [
        {
          "output_type": "execute_result",
          "data": {
            "text/plain": [
              "0.9354838709677419"
            ]
          },
          "metadata": {},
          "execution_count": 12
        }
      ]
    },
    {
      "cell_type": "code",
      "metadata": {
        "id": "H51lKCEPXEEn"
      },
      "source": [
        "from sklearn.pipeline import Pipeline #uproszczenie modelu, czyli połączenie CountVectorizer oraz MultinomialNB\n",
        "clf = Pipeline([\n",
        "    ('vectorizer', CountVectorizer()),\n",
        "    ('nb', MultinomialNB())\n",
        "])"
      ],
      "execution_count": 13,
      "outputs": []
    },
    {
      "cell_type": "code",
      "metadata": {
        "colab": {
          "base_uri": "https://localhost:8080/"
        },
        "id": "iCyWtnp-XEHX",
        "outputId": "209d093b-199e-40e2-ccdd-835a34428238"
      },
      "source": [
        "clf.fit(X_train, y_train)"
      ],
      "execution_count": 14,
      "outputs": [
        {
          "output_type": "execute_result",
          "data": {
            "text/plain": [
              "Pipeline(memory=None,\n",
              "         steps=[('vectorizer',\n",
              "                 CountVectorizer(analyzer='word', binary=False,\n",
              "                                 decode_error='strict',\n",
              "                                 dtype=<class 'numpy.int64'>, encoding='utf-8',\n",
              "                                 input='content', lowercase=True, max_df=1.0,\n",
              "                                 max_features=None, min_df=1,\n",
              "                                 ngram_range=(1, 1), preprocessor=None,\n",
              "                                 stop_words=None, strip_accents=None,\n",
              "                                 token_pattern='(?u)\\\\b\\\\w\\\\w+\\\\b',\n",
              "                                 tokenizer=None, vocabulary=None)),\n",
              "                ('nb',\n",
              "                 MultinomialNB(alpha=1.0, class_prior=None, fit_prior=True))],\n",
              "         verbose=False)"
            ]
          },
          "metadata": {},
          "execution_count": 14
        }
      ]
    },
    {
      "cell_type": "code",
      "metadata": {
        "colab": {
          "base_uri": "https://localhost:8080/"
        },
        "id": "3ECSMn_dXW1Q",
        "outputId": "1fd2dd31-0bdd-4bca-905a-0ece0fa3ac69"
      },
      "source": [
        "clf.score(X_test,y_test) #sprawdzenie skuteczności"
      ],
      "execution_count": 15,
      "outputs": [
        {
          "output_type": "execute_result",
          "data": {
            "text/plain": [
              "0.9354838709677419"
            ]
          },
          "metadata": {},
          "execution_count": 15
        }
      ]
    },
    {
      "cell_type": "code",
      "metadata": {
        "colab": {
          "base_uri": "https://localhost:8080/"
        },
        "id": "hxOw4bDSXW4B",
        "outputId": "e52fa8c2-b1ac-4d2a-805b-ab5ba987e68c"
      },
      "source": [
        "clf.predict(emails)"
      ],
      "execution_count": 16,
      "outputs": [
        {
          "output_type": "execute_result",
          "data": {
            "text/plain": [
              "array([1, 1])"
            ]
          },
          "metadata": {},
          "execution_count": 16
        }
      ]
    },
    {
      "cell_type": "code",
      "metadata": {
        "colab": {
          "base_uri": "https://localhost:8080/"
        },
        "id": "ZNeNqnblXW63",
        "outputId": "59ecbe16-b34f-4c58-bcf1-1cbea8915aba"
      },
      "source": [
        "X_test.head(10)"
      ],
      "execution_count": 17,
      "outputs": [
        {
          "output_type": "execute_result",
          "data": {
            "text/plain": [
              "169    Can this channel get 500+ subscribers? You can...\n",
              "318    Hey, hit this shit up while yall can, they kil...\n",
              "101                                       Waka waka !!!﻿\n",
              "201                Please visit this Website: oldchat.tk\n",
              "186    Stop Wasting Up Your Time and  Get Paid To Mes...\n",
              "265                                       OMG LOVE THIS!\n",
              "26                            still watching in 2015...﻿\n",
              "300    Hello everyone :) I know most of you probably ...\n",
              "203    Hello everyone my name&#39;s Anderson and i&#3...\n",
              "323    I really ask nicely to view my vids:) I subscr...\n",
              "Name: COMMENT, dtype: object"
            ]
          },
          "metadata": {},
          "execution_count": 17
        }
      ]
    },
    {
      "cell_type": "code",
      "metadata": {
        "colab": {
          "base_uri": "https://localhost:8080/"
        },
        "id": "TniI71dFXW9T",
        "outputId": "eaf19aba-250b-445e-9a7d-d6c3703380d7"
      },
      "source": [
        "clf.predict(X_test)[:10]"
      ],
      "execution_count": 18,
      "outputs": [
        {
          "output_type": "execute_result",
          "data": {
            "text/plain": [
              "array([1, 1, 0, 1, 1, 0, 0, 1, 1, 1])"
            ]
          },
          "metadata": {},
          "execution_count": 18
        }
      ]
    },
    {
      "cell_type": "code",
      "metadata": {
        "colab": {
          "base_uri": "https://localhost:8080/"
        },
        "id": "-7Q4KNghXXAO",
        "outputId": "f5a2b387-f61e-4874-8a4d-5bd073e6fb20"
      },
      "source": [
        "X_test"
      ],
      "execution_count": 19,
      "outputs": [
        {
          "output_type": "execute_result",
          "data": {
            "text/plain": [
              "169    Can this channel get 500+ subscribers? You can...\n",
              "318    Hey, hit this shit up while yall can, they kil...\n",
              "101                                       Waka waka !!!﻿\n",
              "201                Please visit this Website: oldchat.tk\n",
              "186    Stop Wasting Up Your Time and  Get Paid To Mes...\n",
              "                             ...                        \n",
              "67                                            nice song﻿\n",
              "352    i watched this because of the large amount of ...\n",
              "87                                             GREAT!!!﻿\n",
              "228                                            I love it\n",
              "321          Subscribe me, I will? subscribe you back!!!\n",
              "Name: COMMENT, Length: 93, dtype: object"
            ]
          },
          "metadata": {},
          "execution_count": 19
        }
      ]
    },
    {
      "cell_type": "code",
      "metadata": {
        "id": "z-dD2w5AV4kr"
      },
      "source": [
        ""
      ],
      "execution_count": 19,
      "outputs": []
    }
  ]
}